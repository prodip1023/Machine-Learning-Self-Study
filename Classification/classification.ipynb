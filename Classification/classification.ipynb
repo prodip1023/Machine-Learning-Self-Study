{
 "cells": [
  {
   "cell_type": "markdown",
   "metadata": {},
   "source": [
    "# TRAINING SIMPLE MACHINE LEARNING ALGORITHIMS FOR CLASSIFICATION\n",
    "- We will make use of two of the first algorithmically described machine learning algorithms for classification:\n",
    "  1. The Perceptron\n",
    "  2. Adaptive linear neurons"
   ]
  },
  {
   "cell_type": "markdown",
   "metadata": {},
   "source": [
    "![ann](https://www.researchgate.net/publication/369877294/figure/fig2/AS:11431281139744459@1680888765531/A-neuron-processing-chemical-and-electrical-signals-4.jpg)"
   ]
  },
  {
   "cell_type": "markdown",
   "metadata": {},
   "source": [
    "# THE FORMAL DEFINATION OF AN ARTIFICIAL NEURON\n",
    "- We can put the idea behind artificial neurons into the context of a binary classification task with classes: 0 and 1.\n",
    "- We can then define a decision function, \\sigma(z),that takes a linear combination of certain input values,x,and a corresponding weight vector,w,where z is the so-called net input :\n"
   ]
  },
  {
   "cell_type": "markdown",
   "metadata": {},
   "source": [
    "# LINEAR ALGEBRA BASICS:\n",
    "- Dot Product\n",
    "- Matrix Transpose"
   ]
  }
 ],
 "metadata": {
  "kernelspec": {
   "display_name": "ml_env",
   "language": "python",
   "name": "python3"
  },
  "language_info": {
   "name": "python",
   "version": "3.11.0"
  }
 },
 "nbformat": 4,
 "nbformat_minor": 2
}
