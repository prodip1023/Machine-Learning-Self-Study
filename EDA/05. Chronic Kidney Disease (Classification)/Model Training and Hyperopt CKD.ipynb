{
 "cells": [
  {
   "cell_type": "markdown",
   "id": "489b6ded",
   "metadata": {},
   "source": [
    "![image info](https://ineuron.ai/images/ineuron-logo.png)"
   ]
  },
  {
   "cell_type": "markdown",
   "id": "4437a980",
   "metadata": {},
   "source": [
    "# Data Pre-Processing"
   ]
  },
  {
   "cell_type": "markdown",
   "id": "74b4d7e0",
   "metadata": {},
   "source": [
    "#### Import Packages and CSV"
   ]
  },
  {
   "cell_type": "code",
   "execution_count": 1,
   "id": "5530cc59",
   "metadata": {},
   "outputs": [],
   "source": [
    "import pandas as pd\n",
    "import numpy as np\n",
    "import matplotlib.pyplot as plt\n",
    "import seaborn as sns\n",
    "import warnings\n",
    "warnings.filterwarnings(\"ignore\")\n",
    "pd.pandas.set_option(\"display.max_columns\", None)"
   ]
  },
  {
   "cell_type": "code",
   "execution_count": 2,
   "id": "c9b4af25",
   "metadata": {},
   "outputs": [],
   "source": [
    "dataset_path = './data/chronic_kidney_disease.arff'\n",
    "colNames =['age', 'bp', 'sg', 'al', 'su', 'rbc', 'pc', 'pcc', 'ba', 'bgr', 'bu', 'sc', 'sod', 'pot',\n",
    "            'hemo', 'pcv', 'wbcc', 'rbcc', 'htn', 'dm', 'cad', 'appet', 'pe', 'ane', 'class']\n",
    "\n",
    "df = pd.read_csv(dataset_path, names=colNames, sep=',', header=None, index_col=False, skiprows= 29, na_values=['?'], skipinitialspace=True, usecols=range(0, 25))"
   ]
  },
  {
   "cell_type": "markdown",
   "id": "c27265bd",
   "metadata": {},
   "source": [
    "## Data Cleaning"
   ]
  },
  {
   "cell_type": "markdown",
   "id": "42e57c03",
   "metadata": {},
   "source": [
    "### Check Spelling Errors"
   ]
  },
  {
   "cell_type": "markdown",
   "id": "a50c4c6e",
   "metadata": {},
   "source": [
    "* Spelling Error in `class` column"
   ]
  },
  {
   "cell_type": "code",
   "execution_count": 3,
   "id": "0d147246",
   "metadata": {},
   "outputs": [
    {
     "data": {
      "text/plain": [
       "ckd       0.6250\n",
       "notckd    0.3725\n",
       "no        0.0025\n",
       "Name: class, dtype: float64"
      ]
     },
     "execution_count": 3,
     "metadata": {},
     "output_type": "execute_result"
    }
   ],
   "source": [
    "df['class'].value_counts(normalize=True)"
   ]
  },
  {
   "cell_type": "markdown",
   "id": "3cecf70d",
   "metadata": {},
   "source": [
    "* Spelling Error in `appet` column"
   ]
  },
  {
   "cell_type": "code",
   "execution_count": 4,
   "id": "3763084d",
   "metadata": {},
   "outputs": [
    {
     "data": {
      "text/plain": [
       "good    316\n",
       "poor     82\n",
       "no        1\n",
       "Name: appet, dtype: int64"
      ]
     },
     "execution_count": 4,
     "metadata": {},
     "output_type": "execute_result"
    }
   ],
   "source": [
    "df['appet'].value_counts()"
   ]
  },
  {
   "cell_type": "markdown",
   "id": "6190157a",
   "metadata": {},
   "source": [
    "* Spelling Error in `pe` column"
   ]
  },
  {
   "cell_type": "code",
   "execution_count": 5,
   "id": "4634f9d2",
   "metadata": {},
   "outputs": [
    {
     "data": {
      "text/plain": [
       "no      322\n",
       "yes      76\n",
       "good      1\n",
       "Name: pe, dtype: int64"
      ]
     },
     "execution_count": 5,
     "metadata": {},
     "output_type": "execute_result"
    }
   ],
   "source": [
    "df['pe'].value_counts()"
   ]
  },
  {
   "cell_type": "markdown",
   "id": "2bf31b07",
   "metadata": {},
   "source": [
    "### Handling spelling errors"
   ]
  },
  {
   "cell_type": "code",
   "execution_count": 6,
   "id": "61c2dff7",
   "metadata": {},
   "outputs": [],
   "source": [
    "df['class'].mask(df['class'] == 'no', 'notckd', inplace=True)\n",
    "df['appet'].mask(df['appet']=='no','poor', inplace=True)\n",
    "df['pe'].mask(df['pe']=='good','yes', inplace=True)"
   ]
  },
  {
   "cell_type": "markdown",
   "id": "dbad805a",
   "metadata": {},
   "source": [
    "### Handling Missing values"
   ]
  },
  {
   "cell_type": "markdown",
   "id": "0a0c1c0d",
   "metadata": {},
   "source": [
    "* Handling Missing values \n",
    "* Handling Duplicates\n",
    "* Check data type\n",
    "* Understand the dataset"
   ]
  },
  {
   "cell_type": "markdown",
   "id": "40b4a428",
   "metadata": {},
   "source": [
    "#### Check Null Values"
   ]
  },
  {
   "cell_type": "code",
   "execution_count": 7,
   "id": "2b94aa8f",
   "metadata": {},
   "outputs": [
    {
     "name": "stdout",
     "output_type": "stream",
     "text": [
      "Missing values of each column\n",
      "age : 2.25 %\n",
      "bp : 3.0 %\n",
      "sg : 11.75 %\n",
      "al : 11.5 %\n",
      "su : 12.25 %\n",
      "rbc : 38.0 %\n",
      "pc : 16.25 %\n",
      "pcc : 1.0 %\n",
      "ba : 1.0 %\n",
      "bgr : 11.0 %\n",
      "bu : 4.75 %\n",
      "sc : 4.25 %\n",
      "sod : 21.75 %\n",
      "pot : 22.0 %\n",
      "hemo : 13.0 %\n",
      "pcv : 17.75 %\n",
      "wbcc : 26.5 %\n",
      "rbcc : 32.75 %\n",
      "htn : 0.5 %\n",
      "dm : 0.75 %\n",
      "cad : 0.5 %\n",
      "appet : 0.25 %\n",
      "pe : 0.25 %\n",
      "ane : 0.25 %\n"
     ]
    }
   ],
   "source": [
    "##these are the features with nan value\n",
    "features_with_na=[features for features in df.columns if df[features].isnull().sum()>=1]\n",
    "print('Missing values of each column')\n",
    "for feature in features_with_na:\n",
    "    print(feature,':',np.round(df[feature].isnull().mean()*100,5),'%')"
   ]
  },
  {
   "cell_type": "markdown",
   "id": "b35c055d",
   "metadata": {},
   "source": [
    "**What does NaN mean?**\n",
    "\n",
    "**Ans:** Missing Values in a DataFrame\n",
    "\n",
    "**Why might a value be missing?** \n",
    "\n",
    "**Ans:** When considering the potential impact of the missing data on the Dataset, it is important to consider the underlying reasons for why the data are missing\n",
    "Missing data are of three categories:\n",
    "* Missing completely at random (MCAR)\n",
    "* Missing at random (MAR).\n",
    "* Missing not at random (MNAR). \n",
    "\n",
    "Here it is MAR type of missing values in dataset which are Missing at Random. That maybe caused by instrument availability and instrument not able to record at the time of capturing."
   ]
  },
  {
   "cell_type": "markdown",
   "id": "f4e8c0f1",
   "metadata": {},
   "source": [
    "## KNN Imputer can be used for handling Null values\n",
    "\n",
    "* As KNN imputer uses Euclidean distance. We can transform the data and use imputer to fill null values."
   ]
  },
  {
   "cell_type": "code",
   "execution_count": 9,
   "id": "c99c952e",
   "metadata": {},
   "outputs": [
    {
     "data": {
      "text/html": [
       "<div>\n",
       "<style scoped>\n",
       "    .dataframe tbody tr th:only-of-type {\n",
       "        vertical-align: middle;\n",
       "    }\n",
       "\n",
       "    .dataframe tbody tr th {\n",
       "        vertical-align: top;\n",
       "    }\n",
       "\n",
       "    .dataframe thead th {\n",
       "        text-align: right;\n",
       "    }\n",
       "</style>\n",
       "<table border=\"1\" class=\"dataframe\">\n",
       "  <thead>\n",
       "    <tr style=\"text-align: right;\">\n",
       "      <th></th>\n",
       "      <th>age</th>\n",
       "      <th>bp</th>\n",
       "      <th>sg</th>\n",
       "      <th>al</th>\n",
       "      <th>su</th>\n",
       "      <th>bgr</th>\n",
       "      <th>bu</th>\n",
       "      <th>sc</th>\n",
       "      <th>sod</th>\n",
       "      <th>pot</th>\n",
       "      <th>hemo</th>\n",
       "      <th>pcv</th>\n",
       "      <th>wbcc</th>\n",
       "      <th>rbcc</th>\n",
       "    </tr>\n",
       "  </thead>\n",
       "  <tbody>\n",
       "    <tr>\n",
       "      <th>count</th>\n",
       "      <td>391.000000</td>\n",
       "      <td>388.000000</td>\n",
       "      <td>353.000000</td>\n",
       "      <td>354.000000</td>\n",
       "      <td>351.000000</td>\n",
       "      <td>356.000000</td>\n",
       "      <td>381.000000</td>\n",
       "      <td>383.000000</td>\n",
       "      <td>313.000000</td>\n",
       "      <td>312.000000</td>\n",
       "      <td>348.000000</td>\n",
       "      <td>329.000000</td>\n",
       "      <td>294.000000</td>\n",
       "      <td>269.000000</td>\n",
       "    </tr>\n",
       "    <tr>\n",
       "      <th>mean</th>\n",
       "      <td>51.483376</td>\n",
       "      <td>76.469072</td>\n",
       "      <td>1.017408</td>\n",
       "      <td>1.016949</td>\n",
       "      <td>0.450142</td>\n",
       "      <td>148.036517</td>\n",
       "      <td>57.425722</td>\n",
       "      <td>3.072454</td>\n",
       "      <td>137.528754</td>\n",
       "      <td>4.627244</td>\n",
       "      <td>12.526437</td>\n",
       "      <td>38.884498</td>\n",
       "      <td>8406.122449</td>\n",
       "      <td>4.707435</td>\n",
       "    </tr>\n",
       "    <tr>\n",
       "      <th>std</th>\n",
       "      <td>17.169714</td>\n",
       "      <td>13.683637</td>\n",
       "      <td>0.005717</td>\n",
       "      <td>1.352679</td>\n",
       "      <td>1.099191</td>\n",
       "      <td>79.281714</td>\n",
       "      <td>50.503006</td>\n",
       "      <td>5.741126</td>\n",
       "      <td>10.408752</td>\n",
       "      <td>3.193904</td>\n",
       "      <td>2.912587</td>\n",
       "      <td>8.990105</td>\n",
       "      <td>2944.474190</td>\n",
       "      <td>1.025323</td>\n",
       "    </tr>\n",
       "    <tr>\n",
       "      <th>min</th>\n",
       "      <td>2.000000</td>\n",
       "      <td>50.000000</td>\n",
       "      <td>1.005000</td>\n",
       "      <td>0.000000</td>\n",
       "      <td>0.000000</td>\n",
       "      <td>22.000000</td>\n",
       "      <td>1.500000</td>\n",
       "      <td>0.400000</td>\n",
       "      <td>4.500000</td>\n",
       "      <td>2.500000</td>\n",
       "      <td>3.100000</td>\n",
       "      <td>9.000000</td>\n",
       "      <td>2200.000000</td>\n",
       "      <td>2.100000</td>\n",
       "    </tr>\n",
       "    <tr>\n",
       "      <th>25%</th>\n",
       "      <td>42.000000</td>\n",
       "      <td>70.000000</td>\n",
       "      <td>1.010000</td>\n",
       "      <td>0.000000</td>\n",
       "      <td>0.000000</td>\n",
       "      <td>99.000000</td>\n",
       "      <td>27.000000</td>\n",
       "      <td>0.900000</td>\n",
       "      <td>135.000000</td>\n",
       "      <td>3.800000</td>\n",
       "      <td>10.300000</td>\n",
       "      <td>32.000000</td>\n",
       "      <td>6500.000000</td>\n",
       "      <td>3.900000</td>\n",
       "    </tr>\n",
       "    <tr>\n",
       "      <th>50%</th>\n",
       "      <td>55.000000</td>\n",
       "      <td>80.000000</td>\n",
       "      <td>1.020000</td>\n",
       "      <td>0.000000</td>\n",
       "      <td>0.000000</td>\n",
       "      <td>121.000000</td>\n",
       "      <td>42.000000</td>\n",
       "      <td>1.300000</td>\n",
       "      <td>138.000000</td>\n",
       "      <td>4.400000</td>\n",
       "      <td>12.650000</td>\n",
       "      <td>40.000000</td>\n",
       "      <td>8000.000000</td>\n",
       "      <td>4.800000</td>\n",
       "    </tr>\n",
       "    <tr>\n",
       "      <th>75%</th>\n",
       "      <td>64.500000</td>\n",
       "      <td>80.000000</td>\n",
       "      <td>1.020000</td>\n",
       "      <td>2.000000</td>\n",
       "      <td>0.000000</td>\n",
       "      <td>163.000000</td>\n",
       "      <td>66.000000</td>\n",
       "      <td>2.800000</td>\n",
       "      <td>142.000000</td>\n",
       "      <td>4.900000</td>\n",
       "      <td>15.000000</td>\n",
       "      <td>45.000000</td>\n",
       "      <td>9800.000000</td>\n",
       "      <td>5.400000</td>\n",
       "    </tr>\n",
       "    <tr>\n",
       "      <th>max</th>\n",
       "      <td>90.000000</td>\n",
       "      <td>180.000000</td>\n",
       "      <td>1.025000</td>\n",
       "      <td>5.000000</td>\n",
       "      <td>5.000000</td>\n",
       "      <td>490.000000</td>\n",
       "      <td>391.000000</td>\n",
       "      <td>76.000000</td>\n",
       "      <td>163.000000</td>\n",
       "      <td>47.000000</td>\n",
       "      <td>17.800000</td>\n",
       "      <td>54.000000</td>\n",
       "      <td>26400.000000</td>\n",
       "      <td>8.000000</td>\n",
       "    </tr>\n",
       "  </tbody>\n",
       "</table>\n",
       "</div>"
      ],
      "text/plain": [
       "              age          bp          sg          al          su         bgr  \\\n",
       "count  391.000000  388.000000  353.000000  354.000000  351.000000  356.000000   \n",
       "mean    51.483376   76.469072    1.017408    1.016949    0.450142  148.036517   \n",
       "std     17.169714   13.683637    0.005717    1.352679    1.099191   79.281714   \n",
       "min      2.000000   50.000000    1.005000    0.000000    0.000000   22.000000   \n",
       "25%     42.000000   70.000000    1.010000    0.000000    0.000000   99.000000   \n",
       "50%     55.000000   80.000000    1.020000    0.000000    0.000000  121.000000   \n",
       "75%     64.500000   80.000000    1.020000    2.000000    0.000000  163.000000   \n",
       "max     90.000000  180.000000    1.025000    5.000000    5.000000  490.000000   \n",
       "\n",
       "               bu          sc         sod         pot        hemo         pcv  \\\n",
       "count  381.000000  383.000000  313.000000  312.000000  348.000000  329.000000   \n",
       "mean    57.425722    3.072454  137.528754    4.627244   12.526437   38.884498   \n",
       "std     50.503006    5.741126   10.408752    3.193904    2.912587    8.990105   \n",
       "min      1.500000    0.400000    4.500000    2.500000    3.100000    9.000000   \n",
       "25%     27.000000    0.900000  135.000000    3.800000   10.300000   32.000000   \n",
       "50%     42.000000    1.300000  138.000000    4.400000   12.650000   40.000000   \n",
       "75%     66.000000    2.800000  142.000000    4.900000   15.000000   45.000000   \n",
       "max    391.000000   76.000000  163.000000   47.000000   17.800000   54.000000   \n",
       "\n",
       "               wbcc        rbcc  \n",
       "count    294.000000  269.000000  \n",
       "mean    8406.122449    4.707435  \n",
       "std     2944.474190    1.025323  \n",
       "min     2200.000000    2.100000  \n",
       "25%     6500.000000    3.900000  \n",
       "50%     8000.000000    4.800000  \n",
       "75%     9800.000000    5.400000  \n",
       "max    26400.000000    8.000000  "
      ]
     },
     "execution_count": 9,
     "metadata": {},
     "output_type": "execute_result"
    }
   ],
   "source": [
    "# statistics on numerical columns (Null cols)\n",
    "df[features_with_na].select_dtypes(exclude='object').describe()"
   ]
  },
  {
   "cell_type": "markdown",
   "id": "76eafe12",
   "metadata": {},
   "source": [
    "### 3.2 Other Data Cleaning steps"
   ]
  },
  {
   "cell_type": "markdown",
   "id": "471fd48f",
   "metadata": {},
   "source": [
    "**Handling Duplicates**"
   ]
  },
  {
   "cell_type": "code",
   "execution_count": 10,
   "id": "d8fa17e0",
   "metadata": {},
   "outputs": [
    {
     "data": {
      "text/plain": [
       "0"
      ]
     },
     "execution_count": 10,
     "metadata": {},
     "output_type": "execute_result"
    }
   ],
   "source": [
    "df.duplicated().sum()"
   ]
  },
  {
   "cell_type": "markdown",
   "id": "5fc9be68",
   "metadata": {},
   "source": [
    "* **There are no duplicates in the dataset**"
   ]
  },
  {
   "cell_type": "markdown",
   "id": "6d48a184",
   "metadata": {},
   "source": [
    "# Feature Engineering"
   ]
  },
  {
   "cell_type": "markdown",
   "id": "66542de1",
   "metadata": {},
   "source": [
    "### Type of Features"
   ]
  },
  {
   "cell_type": "markdown",
   "id": "85df52e5",
   "metadata": {},
   "source": [
    "**Numeric Features**"
   ]
  },
  {
   "cell_type": "code",
   "execution_count": 11,
   "id": "baff199f",
   "metadata": {},
   "outputs": [
    {
     "name": "stdout",
     "output_type": "stream",
     "text": [
      "Num of Numerical Features : 14\n"
     ]
    }
   ],
   "source": [
    "num_features = [feature for feature in df.columns if df[feature].dtype != 'O']\n",
    "print('Num of Numerical Features :', len(num_features))"
   ]
  },
  {
   "cell_type": "markdown",
   "id": "e1107060",
   "metadata": {},
   "source": [
    "**Categorical Features**"
   ]
  },
  {
   "cell_type": "code",
   "execution_count": 12,
   "id": "ff997805",
   "metadata": {},
   "outputs": [
    {
     "name": "stdout",
     "output_type": "stream",
     "text": [
      "Num of Categorical Features : 11\n"
     ]
    }
   ],
   "source": [
    "cat_features = [feature for feature in df.columns if df[feature].dtype == 'O']\n",
    "print('Num of Categorical Features :', len(cat_features))"
   ]
  },
  {
   "cell_type": "markdown",
   "id": "3ca43676",
   "metadata": {},
   "source": [
    "**Discrete Features**"
   ]
  },
  {
   "cell_type": "code",
   "execution_count": 13,
   "id": "812ee6e0",
   "metadata": {},
   "outputs": [
    {
     "name": "stdout",
     "output_type": "stream",
     "text": [
      "Num of Discrete Features : 4\n"
     ]
    }
   ],
   "source": [
    "discrete_features=[feature for feature in num_features if len(df[feature].unique())<=25]\n",
    "print('Num of Discrete Features :',len(discrete_features))"
   ]
  },
  {
   "cell_type": "markdown",
   "id": "3e6740bf",
   "metadata": {},
   "source": [
    "**Continues Features**"
   ]
  },
  {
   "cell_type": "code",
   "execution_count": 14,
   "id": "e501c72b",
   "metadata": {},
   "outputs": [
    {
     "name": "stdout",
     "output_type": "stream",
     "text": [
      "Num of Continuous Features : 10\n"
     ]
    }
   ],
   "source": [
    "continuous_features=[feature for feature in num_features if feature not in discrete_features]\n",
    "print('Num of Continuous Features :',len(continuous_features))"
   ]
  },
  {
   "cell_type": "markdown",
   "id": "d234a954",
   "metadata": {},
   "source": [
    "### Check Outlier and Capping it"
   ]
  },
  {
   "cell_type": "markdown",
   "id": "29b1ab3b",
   "metadata": {},
   "source": [
    "**Why outliers?**\n",
    "* Data Entry error : Human error. \n",
    "* Measurement error: Instrument error. \n",
    "* Natural error: it will be Real life data.\n",
    "* Intentional error: People give wrong inputs\n",
    "\n",
    "**Impact of Outliers ?**\n",
    "* Ouliers can very high impact on few Machine learning models.\n",
    "* Can Cause bias in the output."
   ]
  },
  {
   "cell_type": "markdown",
   "id": "b2c78731",
   "metadata": {},
   "source": [
    "**Why IQR For Outlier Handling?**\n",
    "* For Skewed distributions: Use Inter-Quartile Range (IQR) proximity rule.\n",
    "* The data points which fall below Q1 – 1.5 IQR or above Q3 + 1.5 IQR are outliers.\n",
    "\n",
    "* where Q1 and Q3 are the 25th and 75th percentile of the dataset respectively, and IQR represents the inter-quartile range and given by Q3 – Q1."
   ]
  },
  {
   "cell_type": "code",
   "execution_count": 16,
   "id": "9719b1b8",
   "metadata": {},
   "outputs": [
    {
     "data": {
      "text/plain": [
       "['age', 'bgr', 'bu', 'sc', 'sod', 'pot', 'hemo', 'pcv', 'wbcc', 'rbcc']"
      ]
     },
     "execution_count": 16,
     "metadata": {},
     "output_type": "execute_result"
    }
   ],
   "source": [
    "continuous_features"
   ]
  },
  {
   "cell_type": "code",
   "execution_count": 17,
   "id": "8e580ec1",
   "metadata": {
    "scrolled": false
   },
   "outputs": [
    {
     "data": {
      "image/png": "[encoded data removed]",
      "text/plain": [
       "<Figure size 1080x1440 with 10 Axes>"
      ]
     },
     "metadata": {
      "needs_background": "light"
     },
     "output_type": "display_data"
    }
   ],
   "source": [
    "plt.figure(figsize=(15, 20))\n",
    "plt.suptitle('Check Outliers', fontsize=20, fontweight='bold', alpha=0.8, y=1.)\n",
    "for i in range(0, len(continuous_features)):\n",
    "    plt.subplot(5, 2, i+1)\n",
    "    sns.set_style('ticks')\n",
    "    sns.boxplot(df[continuous_features[i]])\n",
    "    plt.tight_layout()"
   ]
  },
  {
   "cell_type": "markdown",
   "id": "965bfceb",
   "metadata": {},
   "source": [
    "**Report**\n",
    "* As per the Chart we can see there are some outliers in almost every column\n",
    "* Handle outliers using IQR method."
   ]
  },
  {
   "cell_type": "markdown",
   "id": "6770c24d",
   "metadata": {},
   "source": [
    "**Detecting Outlier and Capping it**"
   ]
  },
  {
   "cell_type": "code",
   "execution_count": 18,
   "id": "6ec840e1",
   "metadata": {},
   "outputs": [],
   "source": [
    "def detect_outliers(col):\n",
    "    # Finding the IQR\n",
    "    percentile25 = df[col].quantile(0.25)\n",
    "    percentile75 = df[col].quantile(0.75)\n",
    "    print('\\n ####', col , '####')\n",
    "    print(\"percentile25\",percentile25)\n",
    "    print(\"percentile75\",percentile75)\n",
    "    iqr = percentile75 - percentile25\n",
    "    upper_limit = percentile75 + 1.5 * iqr\n",
    "    lower_limit = percentile25 - 1.5 * iqr\n",
    "    print(\"Upper limit\",upper_limit.round(2))\n",
    "    print(\"Lower limit\",lower_limit.round(2))\n",
    "    df.loc[(df[col]>upper_limit), col]= upper_limit\n",
    "    df.loc[(df[col]<lower_limit), col]= lower_limit    \n",
    "    return df"
   ]
  },
  {
   "cell_type": "markdown",
   "id": "b1ec524f",
   "metadata": {},
   "source": [
    "**Why are we capping it and why not trim it ?**\n",
    "* Trimming outliers may result in the removal of a large number of records from this dataset as we have already very less rows so this isn’t desirable in this case since columns other than the ones containing the outlier values may contain useful information.\n",
    "\n",
    "* In this cases, you can use outlier capping to replace the outlier values with a maximum or minimum capped values. Be warned, this manipulates our data but we can replace outlier values by the upper and lower limit calculated using the IQR range."
   ]
  },
  {
   "cell_type": "code",
   "execution_count": 19,
   "id": "1236741e",
   "metadata": {},
   "outputs": [
    {
     "name": "stdout",
     "output_type": "stream",
     "text": [
      "\n",
      " #### age ####\n",
      "percentile25 42.0\n",
      "percentile75 64.5\n",
      "Upper limit 98.25\n",
      "Lower limit 8.25\n",
      "\n",
      " #### bgr ####\n",
      "percentile25 99.0\n",
      "percentile75 163.0\n",
      "Upper limit 259.0\n",
      "Lower limit 3.0\n",
      "\n",
      " #### bu ####\n",
      "percentile25 27.0\n",
      "percentile75 66.0\n",
      "Upper limit 124.5\n",
      "Lower limit -31.5\n",
      "\n",
      " #### sc ####\n",
      "percentile25 0.9\n",
      "percentile75 2.8\n",
      "Upper limit 5.65\n",
      "Lower limit -1.95\n",
      "\n",
      " #### sod ####\n",
      "percentile25 135.0\n",
      "percentile75 142.0\n",
      "Upper limit 152.5\n",
      "Lower limit 124.5\n",
      "\n",
      " #### pot ####\n",
      "percentile25 3.8\n",
      "percentile75 4.9\n",
      "Upper limit 6.55\n",
      "Lower limit 2.15\n",
      "\n",
      " #### hemo ####\n",
      "percentile25 10.3\n",
      "percentile75 15.0\n",
      "Upper limit 22.05\n",
      "Lower limit 3.25\n",
      "\n",
      " #### pcv ####\n",
      "percentile25 32.0\n",
      "percentile75 45.0\n",
      "Upper limit 64.5\n",
      "Lower limit 12.5\n",
      "\n",
      " #### wbcc ####\n",
      "percentile25 6500.0\n",
      "percentile75 9800.0\n",
      "Upper limit 14750.0\n",
      "Lower limit 1550.0\n",
      "\n",
      " #### rbcc ####\n",
      "percentile25 3.9\n",
      "percentile75 5.4\n",
      "Upper limit 7.65\n",
      "Lower limit 1.65\n"
     ]
    }
   ],
   "source": [
    "for col in continuous_features:\n",
    "         detect_outliers(col)"
   ]
  },
  {
   "cell_type": "code",
   "execution_count": 20,
   "id": "57b658c3",
   "metadata": {
    "scrolled": false
   },
   "outputs": [
    {
     "data": {
      "image/png": "[encoded data removed]",
      "text/plain": [
       "<Figure size 1080x1440 with 10 Axes>"
      ]
     },
     "metadata": {},
     "output_type": "display_data"
    }
   ],
   "source": [
    "plt.figure(figsize=(15, 20))\n",
    "plt.suptitle('Check Outliers', fontsize=20, fontweight='bold', alpha=0.8, y=1.)\n",
    "for i in range(0, len(continuous_features)):\n",
    "    plt.subplot(5, 2, i+1)\n",
    "    sns.set_style('ticks')\n",
    "    sns.boxplot(df[continuous_features[i]])\n",
    "    plt.tight_layout()"
   ]
  },
  {
   "cell_type": "markdown",
   "id": "a890a255",
   "metadata": {},
   "source": [
    "**Checking Skewness after Outlier Capping**"
   ]
  },
  {
   "cell_type": "code",
   "execution_count": 21,
   "id": "4038a207",
   "metadata": {},
   "outputs": [
    {
     "data": {
      "text/plain": [
       "age    -0.615760\n",
       "bgr     1.022962\n",
       "bu      1.078868\n",
       "sc      1.153813\n",
       "sod    -0.183473\n",
       "pot     0.383004\n",
       "hemo   -0.331398\n",
       "pcv    -0.406615\n",
       "wbcc    0.495374\n",
       "rbcc   -0.217677\n",
       "dtype: float64"
      ]
     },
     "execution_count": 21,
     "metadata": {},
     "output_type": "execute_result"
    }
   ],
   "source": [
    "df[continuous_features].skew(axis=0, skipna=True)"
   ]
  },
  {
   "cell_type": "markdown",
   "id": "fa02d7e6",
   "metadata": {},
   "source": [
    "* A skewness value greater than 1 or less than -1 indicates a highly skewed distribution. A value between 0.5 and 1 or -0.5 and -1 is moderately skewed. A value between -0.5 and 0.5 indicates that the distribution is fairly symmetrical."
   ]
  },
  {
   "cell_type": "markdown",
   "id": "51a3853d",
   "metadata": {},
   "source": [
    "## Feature Encoding and Scaling"
   ]
  },
  {
   "cell_type": "code",
   "execution_count": 22,
   "id": "8bcb724f",
   "metadata": {},
   "outputs": [
    {
     "data": {
      "text/plain": [
       "['rbc', 'pc', 'pcc', 'ba', 'htn', 'dm', 'cad', 'appet', 'pe', 'ane', 'class']"
      ]
     },
     "execution_count": 22,
     "metadata": {},
     "output_type": "execute_result"
    }
   ],
   "source": [
    "cat_features"
   ]
  },
  {
   "cell_type": "code",
   "execution_count": 24,
   "id": "14e5d2f2",
   "metadata": {
    "scrolled": false
   },
   "outputs": [],
   "source": [
    "from sklearn.preprocessing import OrdinalEncoder\n",
    "df1 = df.copy()\n",
    "features = df1[cat_features]\n",
    "enc = OrdinalEncoder().fit(features.values)\n",
    "features = enc.transform(features.values)\n",
    "df1[cat_features] = features\n",
    "df1 = pd.DataFrame(df1, columns=df1.columns)"
   ]
  },
  {
   "cell_type": "markdown",
   "id": "91f0a858",
   "metadata": {},
   "source": [
    "### Split X and Y"
   ]
  },
  {
   "cell_type": "markdown",
   "id": "9455c01a",
   "metadata": {},
   "source": [
    "* **Split Dataframe to X and y**\n",
    "* **Here we set a variable X i.e, independent columns, and a variable y i.e, dependent column as the “class” column.**\n"
   ]
  },
  {
   "cell_type": "code",
   "execution_count": 25,
   "id": "3885d875",
   "metadata": {},
   "outputs": [],
   "source": [
    "X = df1.drop(['class'], axis=1)\n",
    "y = df1['class']"
   ]
  },
  {
   "cell_type": "code",
   "execution_count": 26,
   "id": "cf904262",
   "metadata": {},
   "outputs": [
    {
     "data": {
      "text/html": [
       "<div>\n",
       "<style scoped>\n",
       "    .dataframe tbody tr th:only-of-type {\n",
       "        vertical-align: middle;\n",
       "    }\n",
       "\n",
       "    .dataframe tbody tr th {\n",
       "        vertical-align: top;\n",
       "    }\n",
       "\n",
       "    .dataframe thead th {\n",
       "        text-align: right;\n",
       "    }\n",
       "</style>\n",
       "<table border=\"1\" class=\"dataframe\">\n",
       "  <thead>\n",
       "    <tr style=\"text-align: right;\">\n",
       "      <th></th>\n",
       "      <th>age</th>\n",
       "      <th>bp</th>\n",
       "      <th>sg</th>\n",
       "      <th>al</th>\n",
       "      <th>su</th>\n",
       "      <th>rbc</th>\n",
       "      <th>pc</th>\n",
       "      <th>pcc</th>\n",
       "      <th>ba</th>\n",
       "      <th>bgr</th>\n",
       "      <th>bu</th>\n",
       "      <th>sc</th>\n",
       "      <th>sod</th>\n",
       "      <th>pot</th>\n",
       "      <th>hemo</th>\n",
       "      <th>pcv</th>\n",
       "      <th>wbcc</th>\n",
       "      <th>rbcc</th>\n",
       "      <th>htn</th>\n",
       "      <th>dm</th>\n",
       "      <th>cad</th>\n",
       "      <th>appet</th>\n",
       "      <th>pe</th>\n",
       "      <th>ane</th>\n",
       "    </tr>\n",
       "  </thead>\n",
       "  <tbody>\n",
       "    <tr>\n",
       "      <th>0</th>\n",
       "      <td>48.00</td>\n",
       "      <td>80.0</td>\n",
       "      <td>1.020</td>\n",
       "      <td>1.0</td>\n",
       "      <td>0.0</td>\n",
       "      <td>NaN</td>\n",
       "      <td>1.0</td>\n",
       "      <td>0.0</td>\n",
       "      <td>0.0</td>\n",
       "      <td>121.0</td>\n",
       "      <td>36.0</td>\n",
       "      <td>1.2</td>\n",
       "      <td>NaN</td>\n",
       "      <td>NaN</td>\n",
       "      <td>15.4</td>\n",
       "      <td>44.0</td>\n",
       "      <td>7800.0</td>\n",
       "      <td>5.2</td>\n",
       "      <td>1.0</td>\n",
       "      <td>1.0</td>\n",
       "      <td>0.0</td>\n",
       "      <td>0.0</td>\n",
       "      <td>0.0</td>\n",
       "      <td>0.0</td>\n",
       "    </tr>\n",
       "    <tr>\n",
       "      <th>1</th>\n",
       "      <td>8.25</td>\n",
       "      <td>50.0</td>\n",
       "      <td>1.020</td>\n",
       "      <td>4.0</td>\n",
       "      <td>0.0</td>\n",
       "      <td>NaN</td>\n",
       "      <td>1.0</td>\n",
       "      <td>0.0</td>\n",
       "      <td>0.0</td>\n",
       "      <td>NaN</td>\n",
       "      <td>18.0</td>\n",
       "      <td>0.8</td>\n",
       "      <td>NaN</td>\n",
       "      <td>NaN</td>\n",
       "      <td>11.3</td>\n",
       "      <td>38.0</td>\n",
       "      <td>6000.0</td>\n",
       "      <td>NaN</td>\n",
       "      <td>0.0</td>\n",
       "      <td>0.0</td>\n",
       "      <td>0.0</td>\n",
       "      <td>0.0</td>\n",
       "      <td>0.0</td>\n",
       "      <td>0.0</td>\n",
       "    </tr>\n",
       "    <tr>\n",
       "      <th>2</th>\n",
       "      <td>62.00</td>\n",
       "      <td>80.0</td>\n",
       "      <td>1.010</td>\n",
       "      <td>2.0</td>\n",
       "      <td>3.0</td>\n",
       "      <td>1.0</td>\n",
       "      <td>1.0</td>\n",
       "      <td>0.0</td>\n",
       "      <td>0.0</td>\n",
       "      <td>259.0</td>\n",
       "      <td>53.0</td>\n",
       "      <td>1.8</td>\n",
       "      <td>NaN</td>\n",
       "      <td>NaN</td>\n",
       "      <td>9.6</td>\n",
       "      <td>31.0</td>\n",
       "      <td>7500.0</td>\n",
       "      <td>NaN</td>\n",
       "      <td>0.0</td>\n",
       "      <td>1.0</td>\n",
       "      <td>0.0</td>\n",
       "      <td>1.0</td>\n",
       "      <td>0.0</td>\n",
       "      <td>1.0</td>\n",
       "    </tr>\n",
       "    <tr>\n",
       "      <th>3</th>\n",
       "      <td>48.00</td>\n",
       "      <td>70.0</td>\n",
       "      <td>1.005</td>\n",
       "      <td>4.0</td>\n",
       "      <td>0.0</td>\n",
       "      <td>1.0</td>\n",
       "      <td>0.0</td>\n",
       "      <td>1.0</td>\n",
       "      <td>0.0</td>\n",
       "      <td>117.0</td>\n",
       "      <td>56.0</td>\n",
       "      <td>3.8</td>\n",
       "      <td>124.5</td>\n",
       "      <td>2.5</td>\n",
       "      <td>11.2</td>\n",
       "      <td>32.0</td>\n",
       "      <td>6700.0</td>\n",
       "      <td>3.9</td>\n",
       "      <td>1.0</td>\n",
       "      <td>0.0</td>\n",
       "      <td>0.0</td>\n",
       "      <td>1.0</td>\n",
       "      <td>1.0</td>\n",
       "      <td>1.0</td>\n",
       "    </tr>\n",
       "    <tr>\n",
       "      <th>4</th>\n",
       "      <td>51.00</td>\n",
       "      <td>80.0</td>\n",
       "      <td>1.010</td>\n",
       "      <td>2.0</td>\n",
       "      <td>0.0</td>\n",
       "      <td>1.0</td>\n",
       "      <td>1.0</td>\n",
       "      <td>0.0</td>\n",
       "      <td>0.0</td>\n",
       "      <td>106.0</td>\n",
       "      <td>26.0</td>\n",
       "      <td>1.4</td>\n",
       "      <td>NaN</td>\n",
       "      <td>NaN</td>\n",
       "      <td>11.6</td>\n",
       "      <td>35.0</td>\n",
       "      <td>7300.0</td>\n",
       "      <td>4.6</td>\n",
       "      <td>0.0</td>\n",
       "      <td>0.0</td>\n",
       "      <td>0.0</td>\n",
       "      <td>0.0</td>\n",
       "      <td>0.0</td>\n",
       "      <td>0.0</td>\n",
       "    </tr>\n",
       "    <tr>\n",
       "      <th>...</th>\n",
       "      <td>...</td>\n",
       "      <td>...</td>\n",
       "      <td>...</td>\n",
       "      <td>...</td>\n",
       "      <td>...</td>\n",
       "      <td>...</td>\n",
       "      <td>...</td>\n",
       "      <td>...</td>\n",
       "      <td>...</td>\n",
       "      <td>...</td>\n",
       "      <td>...</td>\n",
       "      <td>...</td>\n",
       "      <td>...</td>\n",
       "      <td>...</td>\n",
       "      <td>...</td>\n",
       "      <td>...</td>\n",
       "      <td>...</td>\n",
       "      <td>...</td>\n",
       "      <td>...</td>\n",
       "      <td>...</td>\n",
       "      <td>...</td>\n",
       "      <td>...</td>\n",
       "      <td>...</td>\n",
       "      <td>...</td>\n",
       "    </tr>\n",
       "    <tr>\n",
       "      <th>395</th>\n",
       "      <td>55.00</td>\n",
       "      <td>80.0</td>\n",
       "      <td>1.020</td>\n",
       "      <td>0.0</td>\n",
       "      <td>0.0</td>\n",
       "      <td>1.0</td>\n",
       "      <td>1.0</td>\n",
       "      <td>0.0</td>\n",
       "      <td>0.0</td>\n",
       "      <td>140.0</td>\n",
       "      <td>49.0</td>\n",
       "      <td>0.5</td>\n",
       "      <td>150.0</td>\n",
       "      <td>4.9</td>\n",
       "      <td>15.7</td>\n",
       "      <td>47.0</td>\n",
       "      <td>6700.0</td>\n",
       "      <td>4.9</td>\n",
       "      <td>0.0</td>\n",
       "      <td>0.0</td>\n",
       "      <td>0.0</td>\n",
       "      <td>0.0</td>\n",
       "      <td>0.0</td>\n",
       "      <td>0.0</td>\n",
       "    </tr>\n",
       "    <tr>\n",
       "      <th>396</th>\n",
       "      <td>42.00</td>\n",
       "      <td>70.0</td>\n",
       "      <td>1.025</td>\n",
       "      <td>0.0</td>\n",
       "      <td>0.0</td>\n",
       "      <td>1.0</td>\n",
       "      <td>1.0</td>\n",
       "      <td>0.0</td>\n",
       "      <td>0.0</td>\n",
       "      <td>75.0</td>\n",
       "      <td>31.0</td>\n",
       "      <td>1.2</td>\n",
       "      <td>141.0</td>\n",
       "      <td>3.5</td>\n",
       "      <td>16.5</td>\n",
       "      <td>54.0</td>\n",
       "      <td>7800.0</td>\n",
       "      <td>6.2</td>\n",
       "      <td>0.0</td>\n",
       "      <td>0.0</td>\n",
       "      <td>0.0</td>\n",
       "      <td>0.0</td>\n",
       "      <td>0.0</td>\n",
       "      <td>0.0</td>\n",
       "    </tr>\n",
       "    <tr>\n",
       "      <th>397</th>\n",
       "      <td>12.00</td>\n",
       "      <td>80.0</td>\n",
       "      <td>1.020</td>\n",
       "      <td>0.0</td>\n",
       "      <td>0.0</td>\n",
       "      <td>1.0</td>\n",
       "      <td>1.0</td>\n",
       "      <td>0.0</td>\n",
       "      <td>0.0</td>\n",
       "      <td>100.0</td>\n",
       "      <td>26.0</td>\n",
       "      <td>0.6</td>\n",
       "      <td>137.0</td>\n",
       "      <td>4.4</td>\n",
       "      <td>15.8</td>\n",
       "      <td>49.0</td>\n",
       "      <td>6600.0</td>\n",
       "      <td>5.4</td>\n",
       "      <td>0.0</td>\n",
       "      <td>0.0</td>\n",
       "      <td>0.0</td>\n",
       "      <td>0.0</td>\n",
       "      <td>0.0</td>\n",
       "      <td>0.0</td>\n",
       "    </tr>\n",
       "    <tr>\n",
       "      <th>398</th>\n",
       "      <td>17.00</td>\n",
       "      <td>60.0</td>\n",
       "      <td>1.025</td>\n",
       "      <td>0.0</td>\n",
       "      <td>0.0</td>\n",
       "      <td>1.0</td>\n",
       "      <td>1.0</td>\n",
       "      <td>0.0</td>\n",
       "      <td>0.0</td>\n",
       "      <td>114.0</td>\n",
       "      <td>50.0</td>\n",
       "      <td>1.0</td>\n",
       "      <td>135.0</td>\n",
       "      <td>4.9</td>\n",
       "      <td>14.2</td>\n",
       "      <td>51.0</td>\n",
       "      <td>7200.0</td>\n",
       "      <td>5.9</td>\n",
       "      <td>0.0</td>\n",
       "      <td>0.0</td>\n",
       "      <td>0.0</td>\n",
       "      <td>0.0</td>\n",
       "      <td>0.0</td>\n",
       "      <td>0.0</td>\n",
       "    </tr>\n",
       "    <tr>\n",
       "      <th>399</th>\n",
       "      <td>58.00</td>\n",
       "      <td>80.0</td>\n",
       "      <td>1.025</td>\n",
       "      <td>0.0</td>\n",
       "      <td>0.0</td>\n",
       "      <td>1.0</td>\n",
       "      <td>1.0</td>\n",
       "      <td>0.0</td>\n",
       "      <td>0.0</td>\n",
       "      <td>131.0</td>\n",
       "      <td>18.0</td>\n",
       "      <td>1.1</td>\n",
       "      <td>141.0</td>\n",
       "      <td>3.5</td>\n",
       "      <td>15.8</td>\n",
       "      <td>53.0</td>\n",
       "      <td>6800.0</td>\n",
       "      <td>6.1</td>\n",
       "      <td>0.0</td>\n",
       "      <td>0.0</td>\n",
       "      <td>0.0</td>\n",
       "      <td>0.0</td>\n",
       "      <td>0.0</td>\n",
       "      <td>0.0</td>\n",
       "    </tr>\n",
       "  </tbody>\n",
       "</table>\n",
       "<p>400 rows × 24 columns</p>\n",
       "</div>"
      ],
      "text/plain": [
       "       age    bp     sg   al   su  rbc   pc  pcc   ba    bgr    bu   sc  \\\n",
       "0    48.00  80.0  1.020  1.0  0.0  NaN  1.0  0.0  0.0  121.0  36.0  1.2   \n",
       "1     8.25  50.0  1.020  4.0  0.0  NaN  1.0  0.0  0.0    NaN  18.0  0.8   \n",
       "2    62.00  80.0  1.010  2.0  3.0  1.0  1.0  0.0  0.0  259.0  53.0  1.8   \n",
       "3    48.00  70.0  1.005  4.0  0.0  1.0  0.0  1.0  0.0  117.0  56.0  3.8   \n",
       "4    51.00  80.0  1.010  2.0  0.0  1.0  1.0  0.0  0.0  106.0  26.0  1.4   \n",
       "..     ...   ...    ...  ...  ...  ...  ...  ...  ...    ...   ...  ...   \n",
       "395  55.00  80.0  1.020  0.0  0.0  1.0  1.0  0.0  0.0  140.0  49.0  0.5   \n",
       "396  42.00  70.0  1.025  0.0  0.0  1.0  1.0  0.0  0.0   75.0  31.0  1.2   \n",
       "397  12.00  80.0  1.020  0.0  0.0  1.0  1.0  0.0  0.0  100.0  26.0  0.6   \n",
       "398  17.00  60.0  1.025  0.0  0.0  1.0  1.0  0.0  0.0  114.0  50.0  1.0   \n",
       "399  58.00  80.0  1.025  0.0  0.0  1.0  1.0  0.0  0.0  131.0  18.0  1.1   \n",
       "\n",
       "       sod  pot  hemo   pcv    wbcc  rbcc  htn   dm  cad  appet   pe  ane  \n",
       "0      NaN  NaN  15.4  44.0  7800.0   5.2  1.0  1.0  0.0    0.0  0.0  0.0  \n",
       "1      NaN  NaN  11.3  38.0  6000.0   NaN  0.0  0.0  0.0    0.0  0.0  0.0  \n",
       "2      NaN  NaN   9.6  31.0  7500.0   NaN  0.0  1.0  0.0    1.0  0.0  1.0  \n",
       "3    124.5  2.5  11.2  32.0  6700.0   3.9  1.0  0.0  0.0    1.0  1.0  1.0  \n",
       "4      NaN  NaN  11.6  35.0  7300.0   4.6  0.0  0.0  0.0    0.0  0.0  0.0  \n",
       "..     ...  ...   ...   ...     ...   ...  ...  ...  ...    ...  ...  ...  \n",
       "395  150.0  4.9  15.7  47.0  6700.0   4.9  0.0  0.0  0.0    0.0  0.0  0.0  \n",
       "396  141.0  3.5  16.5  54.0  7800.0   6.2  0.0  0.0  0.0    0.0  0.0  0.0  \n",
       "397  137.0  4.4  15.8  49.0  6600.0   5.4  0.0  0.0  0.0    0.0  0.0  0.0  \n",
       "398  135.0  4.9  14.2  51.0  7200.0   5.9  0.0  0.0  0.0    0.0  0.0  0.0  \n",
       "399  141.0  3.5  15.8  53.0  6800.0   6.1  0.0  0.0  0.0    0.0  0.0  0.0  \n",
       "\n",
       "[400 rows x 24 columns]"
      ]
     },
     "execution_count": 26,
     "metadata": {},
     "output_type": "execute_result"
    }
   ],
   "source": [
    "X"
   ]
  },
  {
   "cell_type": "markdown",
   "id": "ca2d817d",
   "metadata": {},
   "source": [
    "## Feature Transformation"
   ]
  },
  {
   "cell_type": "code",
   "execution_count": 27,
   "id": "a921c3a0",
   "metadata": {
    "scrolled": false
   },
   "outputs": [
    {
     "data": {
      "image/png": "[encoded data removed]",
      "text/plain": [
       "<Figure size 1080x864 with 10 Axes>"
      ]
     },
     "metadata": {},
     "output_type": "display_data"
    }
   ],
   "source": [
    "# distribution of data before scaling\n",
    "plt.figure(figsize=(15, 12))\n",
    "for i, col in enumerate(continuous_features):\n",
    "    plt.subplot(5, 2, i+1)\n",
    "    sns.distplot(x=X[col], color='indianred')\n",
    "    plt.xlabel(col, weight='bold')\n",
    "    plt.tight_layout()"
   ]
  },
  {
   "cell_type": "markdown",
   "id": "1786c0ad",
   "metadata": {},
   "source": [
    "- Positiviely Skewed : sc (Serum Creatinine), bgr (Blood Glucose Random), bu (Blood Urea)\n",
    "- Negatively Skewed : Age"
   ]
  },
  {
   "cell_type": "markdown",
   "id": "2c797c47",
   "metadata": {},
   "source": [
    "**Log Transformation**"
   ]
  },
  {
   "cell_type": "markdown",
   "id": "ca6ac67f",
   "metadata": {},
   "source": [
    "**What is Skewness ?**\n",
    "\n",
    "* Skewness refers to a distortion or asymmetry that deviates from the symmetrical bell curve, or normal distribution, in a set of data. If the curve is shifted to the left or to the right, it is said to be skewed. Skewness can be quantified as a representation of the extent to which a given distribution varies from a normal distribution. A normal distribution has a skew of zero"
   ]
  },
  {
   "cell_type": "code",
   "execution_count": 28,
   "id": "299722f1",
   "metadata": {},
   "outputs": [],
   "source": [
    "from sklearn.preprocessing import MinMaxScaler, StandardScaler\n",
    "# transform data\n",
    "X_scaled = X.copy()\n",
    "features = X_scaled[num_features]\n",
    "scaler = StandardScaler().fit(features.values)\n",
    "features = scaler.transform(features.values)\n",
    "X_scaled[num_features] = features\n",
    "X_scaled = pd.DataFrame(X_scaled, columns=X.columns) # Save X_scaled as DataFrame for visualization"
   ]
  },
  {
   "cell_type": "markdown",
   "id": "67d85ca7",
   "metadata": {},
   "source": [
    "**Check the Scaled dataframe**"
   ]
  },
  {
   "cell_type": "code",
   "execution_count": 29,
   "id": "c6de1fb2",
   "metadata": {},
   "outputs": [
    {
     "data": {
      "text/html": [
       "<div>\n",
       "<style scoped>\n",
       "    .dataframe tbody tr th:only-of-type {\n",
       "        vertical-align: middle;\n",
       "    }\n",
       "\n",
       "    .dataframe tbody tr th {\n",
       "        vertical-align: top;\n",
       "    }\n",
       "\n",
       "    .dataframe thead th {\n",
       "        text-align: right;\n",
       "    }\n",
       "</style>\n",
       "<table border=\"1\" class=\"dataframe\">\n",
       "  <thead>\n",
       "    <tr style=\"text-align: right;\">\n",
       "      <th></th>\n",
       "      <th>age</th>\n",
       "      <th>bp</th>\n",
       "      <th>sg</th>\n",
       "      <th>al</th>\n",
       "      <th>su</th>\n",
       "      <th>rbc</th>\n",
       "      <th>pc</th>\n",
       "      <th>pcc</th>\n",
       "      <th>ba</th>\n",
       "      <th>bgr</th>\n",
       "      <th>bu</th>\n",
       "      <th>sc</th>\n",
       "      <th>sod</th>\n",
       "      <th>pot</th>\n",
       "      <th>hemo</th>\n",
       "      <th>pcv</th>\n",
       "      <th>wbcc</th>\n",
       "      <th>rbcc</th>\n",
       "      <th>htn</th>\n",
       "      <th>dm</th>\n",
       "      <th>cad</th>\n",
       "      <th>appet</th>\n",
       "      <th>pe</th>\n",
       "      <th>ane</th>\n",
       "    </tr>\n",
       "  </thead>\n",
       "  <tbody>\n",
       "    <tr>\n",
       "      <th>0</th>\n",
       "      <td>-0.209293</td>\n",
       "      <td>0.258373</td>\n",
       "      <td>0.454071</td>\n",
       "      <td>-0.012548</td>\n",
       "      <td>-0.410106</td>\n",
       "      <td>NaN</td>\n",
       "      <td>1.0</td>\n",
       "      <td>0.0</td>\n",
       "      <td>0.0</td>\n",
       "      <td>-0.332580</td>\n",
       "      <td>-0.474727</td>\n",
       "      <td>-0.545085</td>\n",
       "      <td>NaN</td>\n",
       "      <td>NaN</td>\n",
       "      <td>0.988345</td>\n",
       "      <td>0.570821</td>\n",
       "      <td>-0.195045</td>\n",
       "      <td>0.484447</td>\n",
       "      <td>1.0</td>\n",
       "      <td>1.0</td>\n",
       "      <td>0.0</td>\n",
       "      <td>0.0</td>\n",
       "      <td>0.0</td>\n",
       "      <td>0.0</td>\n",
       "    </tr>\n",
       "    <tr>\n",
       "      <th>1</th>\n",
       "      <td>-2.552022</td>\n",
       "      <td>-1.936857</td>\n",
       "      <td>0.454071</td>\n",
       "      <td>2.208413</td>\n",
       "      <td>-0.410106</td>\n",
       "      <td>NaN</td>\n",
       "      <td>1.0</td>\n",
       "      <td>0.0</td>\n",
       "      <td>0.0</td>\n",
       "      <td>NaN</td>\n",
       "      <td>-1.016780</td>\n",
       "      <td>-0.779196</td>\n",
       "      <td>NaN</td>\n",
       "      <td>NaN</td>\n",
       "      <td>-0.422037</td>\n",
       "      <td>-0.100093</td>\n",
       "      <td>-0.903474</td>\n",
       "      <td>NaN</td>\n",
       "      <td>0.0</td>\n",
       "      <td>0.0</td>\n",
       "      <td>0.0</td>\n",
       "      <td>0.0</td>\n",
       "      <td>0.0</td>\n",
       "      <td>0.0</td>\n",
       "    </tr>\n",
       "    <tr>\n",
       "      <th>2</th>\n",
       "      <td>0.615820</td>\n",
       "      <td>0.258373</td>\n",
       "      <td>-1.297699</td>\n",
       "      <td>0.727772</td>\n",
       "      <td>2.323069</td>\n",
       "      <td>1.0</td>\n",
       "      <td>1.0</td>\n",
       "      <td>0.0</td>\n",
       "      <td>0.0</td>\n",
       "      <td>2.086577</td>\n",
       "      <td>0.037212</td>\n",
       "      <td>-0.193920</td>\n",
       "      <td>NaN</td>\n",
       "      <td>NaN</td>\n",
       "      <td>-1.006830</td>\n",
       "      <td>-0.882827</td>\n",
       "      <td>-0.313117</td>\n",
       "      <td>NaN</td>\n",
       "      <td>0.0</td>\n",
       "      <td>1.0</td>\n",
       "      <td>0.0</td>\n",
       "      <td>1.0</td>\n",
       "      <td>0.0</td>\n",
       "      <td>1.0</td>\n",
       "    </tr>\n",
       "    <tr>\n",
       "      <th>3</th>\n",
       "      <td>-0.209293</td>\n",
       "      <td>-0.473370</td>\n",
       "      <td>-2.173584</td>\n",
       "      <td>2.208413</td>\n",
       "      <td>-0.410106</td>\n",
       "      <td>1.0</td>\n",
       "      <td>0.0</td>\n",
       "      <td>1.0</td>\n",
       "      <td>0.0</td>\n",
       "      <td>-0.402700</td>\n",
       "      <td>0.127554</td>\n",
       "      <td>0.976630</td>\n",
       "      <td>-2.233321</td>\n",
       "      <td>-2.487769</td>\n",
       "      <td>-0.456437</td>\n",
       "      <td>-0.771008</td>\n",
       "      <td>-0.627974</td>\n",
       "      <td>-0.790759</td>\n",
       "      <td>1.0</td>\n",
       "      <td>0.0</td>\n",
       "      <td>0.0</td>\n",
       "      <td>1.0</td>\n",
       "      <td>1.0</td>\n",
       "      <td>1.0</td>\n",
       "    </tr>\n",
       "    <tr>\n",
       "      <th>4</th>\n",
       "      <td>-0.032483</td>\n",
       "      <td>0.258373</td>\n",
       "      <td>-1.297699</td>\n",
       "      <td>0.727772</td>\n",
       "      <td>-0.410106</td>\n",
       "      <td>1.0</td>\n",
       "      <td>1.0</td>\n",
       "      <td>0.0</td>\n",
       "      <td>0.0</td>\n",
       "      <td>-0.595532</td>\n",
       "      <td>-0.775868</td>\n",
       "      <td>-0.428030</td>\n",
       "      <td>NaN</td>\n",
       "      <td>NaN</td>\n",
       "      <td>-0.318839</td>\n",
       "      <td>-0.435550</td>\n",
       "      <td>-0.391831</td>\n",
       "      <td>-0.104110</td>\n",
       "      <td>0.0</td>\n",
       "      <td>0.0</td>\n",
       "      <td>0.0</td>\n",
       "      <td>0.0</td>\n",
       "      <td>0.0</td>\n",
       "      <td>0.0</td>\n",
       "    </tr>\n",
       "    <tr>\n",
       "      <th>...</th>\n",
       "      <td>...</td>\n",
       "      <td>...</td>\n",
       "      <td>...</td>\n",
       "      <td>...</td>\n",
       "      <td>...</td>\n",
       "      <td>...</td>\n",
       "      <td>...</td>\n",
       "      <td>...</td>\n",
       "      <td>...</td>\n",
       "      <td>...</td>\n",
       "      <td>...</td>\n",
       "      <td>...</td>\n",
       "      <td>...</td>\n",
       "      <td>...</td>\n",
       "      <td>...</td>\n",
       "      <td>...</td>\n",
       "      <td>...</td>\n",
       "      <td>...</td>\n",
       "      <td>...</td>\n",
       "      <td>...</td>\n",
       "      <td>...</td>\n",
       "      <td>...</td>\n",
       "      <td>...</td>\n",
       "      <td>...</td>\n",
       "    </tr>\n",
       "    <tr>\n",
       "      <th>395</th>\n",
       "      <td>0.203263</td>\n",
       "      <td>0.258373</td>\n",
       "      <td>0.454071</td>\n",
       "      <td>-0.752868</td>\n",
       "      <td>-0.410106</td>\n",
       "      <td>1.0</td>\n",
       "      <td>1.0</td>\n",
       "      <td>0.0</td>\n",
       "      <td>0.0</td>\n",
       "      <td>0.000492</td>\n",
       "      <td>-0.083244</td>\n",
       "      <td>-0.954778</td>\n",
       "      <td>1.921265</td>\n",
       "      <td>0.671196</td>\n",
       "      <td>1.091544</td>\n",
       "      <td>0.906278</td>\n",
       "      <td>-0.627974</td>\n",
       "      <td>0.190169</td>\n",
       "      <td>0.0</td>\n",
       "      <td>0.0</td>\n",
       "      <td>0.0</td>\n",
       "      <td>0.0</td>\n",
       "      <td>0.0</td>\n",
       "      <td>0.0</td>\n",
       "    </tr>\n",
       "    <tr>\n",
       "      <th>396</th>\n",
       "      <td>-0.562912</td>\n",
       "      <td>-0.473370</td>\n",
       "      <td>1.329955</td>\n",
       "      <td>-0.752868</td>\n",
       "      <td>-0.410106</td>\n",
       "      <td>1.0</td>\n",
       "      <td>1.0</td>\n",
       "      <td>0.0</td>\n",
       "      <td>0.0</td>\n",
       "      <td>-1.138965</td>\n",
       "      <td>-0.625297</td>\n",
       "      <td>-0.545085</td>\n",
       "      <td>0.454941</td>\n",
       "      <td>-1.171534</td>\n",
       "      <td>1.366741</td>\n",
       "      <td>1.689011</td>\n",
       "      <td>-0.195045</td>\n",
       "      <td>1.465374</td>\n",
       "      <td>0.0</td>\n",
       "      <td>0.0</td>\n",
       "      <td>0.0</td>\n",
       "      <td>0.0</td>\n",
       "      <td>0.0</td>\n",
       "      <td>0.0</td>\n",
       "    </tr>\n",
       "    <tr>\n",
       "      <th>397</th>\n",
       "      <td>-2.331010</td>\n",
       "      <td>0.258373</td>\n",
       "      <td>0.454071</td>\n",
       "      <td>-0.752868</td>\n",
       "      <td>-0.410106</td>\n",
       "      <td>1.0</td>\n",
       "      <td>1.0</td>\n",
       "      <td>0.0</td>\n",
       "      <td>0.0</td>\n",
       "      <td>-0.700712</td>\n",
       "      <td>-0.775868</td>\n",
       "      <td>-0.896251</td>\n",
       "      <td>-0.196759</td>\n",
       "      <td>0.013078</td>\n",
       "      <td>1.125944</td>\n",
       "      <td>1.129916</td>\n",
       "      <td>-0.667331</td>\n",
       "      <td>0.680632</td>\n",
       "      <td>0.0</td>\n",
       "      <td>0.0</td>\n",
       "      <td>0.0</td>\n",
       "      <td>0.0</td>\n",
       "      <td>0.0</td>\n",
       "      <td>0.0</td>\n",
       "    </tr>\n",
       "    <tr>\n",
       "      <th>398</th>\n",
       "      <td>-2.036327</td>\n",
       "      <td>-1.205114</td>\n",
       "      <td>1.329955</td>\n",
       "      <td>-0.752868</td>\n",
       "      <td>-0.410106</td>\n",
       "      <td>1.0</td>\n",
       "      <td>1.0</td>\n",
       "      <td>0.0</td>\n",
       "      <td>0.0</td>\n",
       "      <td>-0.455291</td>\n",
       "      <td>-0.053130</td>\n",
       "      <td>-0.662140</td>\n",
       "      <td>-0.522609</td>\n",
       "      <td>0.671196</td>\n",
       "      <td>0.575550</td>\n",
       "      <td>1.353554</td>\n",
       "      <td>-0.431188</td>\n",
       "      <td>1.171096</td>\n",
       "      <td>0.0</td>\n",
       "      <td>0.0</td>\n",
       "      <td>0.0</td>\n",
       "      <td>0.0</td>\n",
       "      <td>0.0</td>\n",
       "      <td>0.0</td>\n",
       "    </tr>\n",
       "    <tr>\n",
       "      <th>399</th>\n",
       "      <td>0.380073</td>\n",
       "      <td>0.258373</td>\n",
       "      <td>1.329955</td>\n",
       "      <td>-0.752868</td>\n",
       "      <td>-0.410106</td>\n",
       "      <td>1.0</td>\n",
       "      <td>1.0</td>\n",
       "      <td>0.0</td>\n",
       "      <td>0.0</td>\n",
       "      <td>-0.157279</td>\n",
       "      <td>-1.016780</td>\n",
       "      <td>-0.603613</td>\n",
       "      <td>0.454941</td>\n",
       "      <td>-1.171534</td>\n",
       "      <td>1.125944</td>\n",
       "      <td>1.577192</td>\n",
       "      <td>-0.588617</td>\n",
       "      <td>1.367281</td>\n",
       "      <td>0.0</td>\n",
       "      <td>0.0</td>\n",
       "      <td>0.0</td>\n",
       "      <td>0.0</td>\n",
       "      <td>0.0</td>\n",
       "      <td>0.0</td>\n",
       "    </tr>\n",
       "  </tbody>\n",
       "</table>\n",
       "<p>400 rows × 24 columns</p>\n",
       "</div>"
      ],
      "text/plain": [
       "          age        bp        sg        al        su  rbc   pc  pcc   ba  \\\n",
       "0   -0.209293  0.258373  0.454071 -0.012548 -0.410106  NaN  1.0  0.0  0.0   \n",
       "1   -2.552022 -1.936857  0.454071  2.208413 -0.410106  NaN  1.0  0.0  0.0   \n",
       "2    0.615820  0.258373 -1.297699  0.727772  2.323069  1.0  1.0  0.0  0.0   \n",
       "3   -0.209293 -0.473370 -2.173584  2.208413 -0.410106  1.0  0.0  1.0  0.0   \n",
       "4   -0.032483  0.258373 -1.297699  0.727772 -0.410106  1.0  1.0  0.0  0.0   \n",
       "..        ...       ...       ...       ...       ...  ...  ...  ...  ...   \n",
       "395  0.203263  0.258373  0.454071 -0.752868 -0.410106  1.0  1.0  0.0  0.0   \n",
       "396 -0.562912 -0.473370  1.329955 -0.752868 -0.410106  1.0  1.0  0.0  0.0   \n",
       "397 -2.331010  0.258373  0.454071 -0.752868 -0.410106  1.0  1.0  0.0  0.0   \n",
       "398 -2.036327 -1.205114  1.329955 -0.752868 -0.410106  1.0  1.0  0.0  0.0   \n",
       "399  0.380073  0.258373  1.329955 -0.752868 -0.410106  1.0  1.0  0.0  0.0   \n",
       "\n",
       "          bgr        bu        sc       sod       pot      hemo       pcv  \\\n",
       "0   -0.332580 -0.474727 -0.545085       NaN       NaN  0.988345  0.570821   \n",
       "1         NaN -1.016780 -0.779196       NaN       NaN -0.422037 -0.100093   \n",
       "2    2.086577  0.037212 -0.193920       NaN       NaN -1.006830 -0.882827   \n",
       "3   -0.402700  0.127554  0.976630 -2.233321 -2.487769 -0.456437 -0.771008   \n",
       "4   -0.595532 -0.775868 -0.428030       NaN       NaN -0.318839 -0.435550   \n",
       "..        ...       ...       ...       ...       ...       ...       ...   \n",
       "395  0.000492 -0.083244 -0.954778  1.921265  0.671196  1.091544  0.906278   \n",
       "396 -1.138965 -0.625297 -0.545085  0.454941 -1.171534  1.366741  1.689011   \n",
       "397 -0.700712 -0.775868 -0.896251 -0.196759  0.013078  1.125944  1.129916   \n",
       "398 -0.455291 -0.053130 -0.662140 -0.522609  0.671196  0.575550  1.353554   \n",
       "399 -0.157279 -1.016780 -0.603613  0.454941 -1.171534  1.125944  1.577192   \n",
       "\n",
       "         wbcc      rbcc  htn   dm  cad  appet   pe  ane  \n",
       "0   -0.195045  0.484447  1.0  1.0  0.0    0.0  0.0  0.0  \n",
       "1   -0.903474       NaN  0.0  0.0  0.0    0.0  0.0  0.0  \n",
       "2   -0.313117       NaN  0.0  1.0  0.0    1.0  0.0  1.0  \n",
       "3   -0.627974 -0.790759  1.0  0.0  0.0    1.0  1.0  1.0  \n",
       "4   -0.391831 -0.104110  0.0  0.0  0.0    0.0  0.0  0.0  \n",
       "..        ...       ...  ...  ...  ...    ...  ...  ...  \n",
       "395 -0.627974  0.190169  0.0  0.0  0.0    0.0  0.0  0.0  \n",
       "396 -0.195045  1.465374  0.0  0.0  0.0    0.0  0.0  0.0  \n",
       "397 -0.667331  0.680632  0.0  0.0  0.0    0.0  0.0  0.0  \n",
       "398 -0.431188  1.171096  0.0  0.0  0.0    0.0  0.0  0.0  \n",
       "399 -0.588617  1.367281  0.0  0.0  0.0    0.0  0.0  0.0  \n",
       "\n",
       "[400 rows x 24 columns]"
      ]
     },
     "execution_count": 29,
     "metadata": {},
     "output_type": "execute_result"
    }
   ],
   "source": [
    "X_scaled"
   ]
  },
  {
   "cell_type": "code",
   "execution_count": 30,
   "id": "a45aa3d1",
   "metadata": {},
   "outputs": [
    {
     "data": {
      "image/png": "[encoded data removed]",
      "text/plain": [
       "<Figure size 1080x864 with 10 Axes>"
      ]
     },
     "metadata": {},
     "output_type": "display_data"
    }
   ],
   "source": [
    "# distribution of data before scaling\n",
    "plt.figure(figsize=(15, 12))\n",
    "for i, col in enumerate(continuous_features):\n",
    "    plt.subplot(5, 2, i+1)\n",
    "    sns.distplot(x=X_scaled[col], color='indianred')\n",
    "    plt.xlabel(col, weight='bold')\n",
    "    plt.tight_layout()"
   ]
  },
  {
   "cell_type": "markdown",
   "id": "4901e6b2",
   "metadata": {},
   "source": [
    "### Imputing Null values"
   ]
  },
  {
   "cell_type": "code",
   "execution_count": 31,
   "id": "becf9ba8",
   "metadata": {
    "scrolled": false
   },
   "outputs": [
    {
     "name": "stdout",
     "output_type": "stream",
     "text": [
      "n_neighbors= 1 || accuracy (0.9842)\n",
      "n_neighbors= 3 || accuracy (0.9875)\n",
      "n_neighbors= 5 || accuracy (0.9867)\n",
      "n_neighbors= 7 || accuracy (0.9867)\n",
      "n_neighbors= 9 || accuracy (0.9858)\n",
      "n_neighbors= 11 || accuracy (0.9858)\n",
      "n_neighbors= 13 || accuracy (0.9867)\n",
      "n_neighbors= 15 || accuracy (0.9858)\n"
     ]
    }
   ],
   "source": [
    "from sklearn.linear_model import LogisticRegression\n",
    "from sklearn.impute import KNNImputer\n",
    "from sklearn.pipeline import Pipeline\n",
    "from sklearn.model_selection import cross_val_score, RepeatedStratifiedKFold\n",
    "from statistics import mean, stdev\n",
    "results=[]\n",
    "# define imputer\n",
    "imputer = KNNImputer(n_neighbors=5, weights='uniform', metric='nan_euclidean')\n",
    "strategies = [str(i) for i in [1,3,5,7,9,11,13,15]]\n",
    "for s in strategies:\n",
    "    pipeline = Pipeline(steps=[('i', KNNImputer(n_neighbors=int(s))), ('m', LogisticRegression())])\n",
    "    cv = RepeatedStratifiedKFold(n_splits=10, n_repeats=3, random_state=1)\n",
    "    scores = cross_val_score(pipeline, X_scaled, y, scoring='accuracy', cv=cv, n_jobs=-1)\n",
    "    results.append(scores)\n",
    "    print('n_neighbors= %s || accuracy (%.4f)' % (s , mean(scores)))"
   ]
  },
  {
   "cell_type": "markdown",
   "id": "8c0786b2",
   "metadata": {},
   "source": [
    "* n_neighbors = 3 (k value) has highest accuracy"
   ]
  },
  {
   "cell_type": "code",
   "execution_count": 32,
   "id": "da618aa1",
   "metadata": {},
   "outputs": [],
   "source": [
    "imputer = KNNImputer(n_neighbors=3)\n",
    "X_scaled = imputer.fit_transform(X_scaled)"
   ]
  },
  {
   "cell_type": "markdown",
   "id": "b0cb1742",
   "metadata": {},
   "source": [
    "## Handling Imbalanced Dataset"
   ]
  },
  {
   "cell_type": "markdown",
   "id": "4110b6b4",
   "metadata": {},
   "source": [
    "* Handling Imbalanced Target Variable.\n",
    "* Synthetic Minority Oversampling Technique or SMOTE is another technique to oversample the dataset."
   ]
  },
  {
   "cell_type": "code",
   "execution_count": 33,
   "id": "fde0c1c7",
   "metadata": {},
   "outputs": [],
   "source": [
    "from imblearn.combine import SMOTETomek, SMOTEENN\n",
    "from imblearn.over_sampling import KMeansSMOTE\n",
    "\n",
    "# Resampling the minority class. The strategy can be changed as required.\n",
    "smt = KMeansSMOTE(random_state=12)\n",
    "# Fit the model to generate the data.\n",
    "X_res, y_res = smt.fit_resample(X_scaled, y)"
   ]
  },
  {
   "cell_type": "markdown",
   "id": "91bcc975",
   "metadata": {},
   "source": [
    "## Train Test Split"
   ]
  },
  {
   "cell_type": "markdown",
   "id": "dbdad979",
   "metadata": {},
   "source": [
    "* The train-test split procedure is used to estimate the performance of machine learning algorithms when they are used to make predictions on data not used to train the model.\n",
    "\n",
    "* It is a fast and easy procedure to perform, the results of which allow you to compare the performance of machine learning algorithms."
   ]
  },
  {
   "cell_type": "code",
   "execution_count": 34,
   "id": "1531b2c6",
   "metadata": {},
   "outputs": [
    {
     "data": {
      "text/plain": [
       "((350, 24), (150, 24))"
      ]
     },
     "execution_count": 34,
     "metadata": {},
     "output_type": "execute_result"
    }
   ],
   "source": [
    "from sklearn.model_selection import train_test_split\n",
    "# separate dataset into train and test\n",
    "X_train, X_test, y_train, y_test = train_test_split(X_res,y_res,test_size=0.3,random_state=21)\n",
    "X_train.shape, X_test.shape"
   ]
  },
  {
   "cell_type": "markdown",
   "id": "d81b9eaa",
   "metadata": {},
   "source": [
    "## Model Selection\n",
    "* **Here should understand the Various Classification models with default values from these models we can choose top 4 with Highest Accuracy score and proceed with HyperParameter Tuning**"
   ]
  },
  {
   "cell_type": "markdown",
   "id": "8b9e9fab",
   "metadata": {},
   "source": [
    "**Import Required packages for model trainin**"
   ]
  },
  {
   "cell_type": "code",
   "execution_count": 35,
   "id": "d82663ae",
   "metadata": {},
   "outputs": [],
   "source": [
    "from sklearn.tree  import DecisionTreeClassifier\n",
    "from sklearn.ensemble import RandomForestClassifier, GradientBoostingClassifier, AdaBoostClassifier\n",
    "from sklearn.linear_model import LogisticRegression\n",
    "from sklearn.neighbors import KNeighborsClassifier\n",
    "from sklearn.metrics import accuracy_score, classification_report,ConfusionMatrixDisplay, \\\n",
    "                            precision_score, recall_score, f1_score, roc_auc_score,roc_curve \n",
    "from sklearn.svm import SVC\n",
    "from sklearn.tree import DecisionTreeClassifier\n",
    "from xgboost import XGBClassifier\n",
    "from catboost import CatBoostClassifier"
   ]
  },
  {
   "cell_type": "code",
   "execution_count": 36,
   "id": "64be7b35",
   "metadata": {
    "scrolled": false
   },
   "outputs": [
    {
     "name": "stdout",
     "output_type": "stream",
     "text": [
      "Random Forest\n",
      "----------------------------------\n",
      "Model performance for Test set\n",
      "- Accuracy: 0.9933\n",
      "- F1 score: 0.9933\n",
      "- Precision: 0.9859\n",
      "- Recall: 1.0000\n",
      "- Roc Auc Score: 0.9938\n",
      "===================================\n",
      "\n",
      "\n",
      "Decision Tree\n",
      "----------------------------------\n",
      "Model performance for Test set\n",
      "- Accuracy: 0.9800\n",
      "- F1 score: 0.9800\n",
      "- Precision: 0.9589\n",
      "- Recall: 1.0000\n",
      "- Roc Auc Score: 0.9813\n",
      "===================================\n",
      "\n",
      "\n",
      "Gradient Boosting\n",
      "----------------------------------\n",
      "Model performance for Test set\n",
      "- Accuracy: 0.9800\n",
      "- F1 score: 0.9800\n",
      "- Precision: 0.9589\n",
      "- Recall: 1.0000\n",
      "- Roc Auc Score: 0.9813\n",
      "===================================\n",
      "\n",
      "\n",
      "Logistic Regression\n",
      "----------------------------------\n",
      "Model performance for Test set\n",
      "- Accuracy: 0.9800\n",
      "- F1 score: 0.9800\n",
      "- Precision: 0.9589\n",
      "- Recall: 1.0000\n",
      "- Roc Auc Score: 0.9813\n",
      "===================================\n",
      "\n",
      "\n",
      "K-Neighbors Classifier\n",
      "----------------------------------\n",
      "Model performance for Test set\n",
      "- Accuracy: 0.9467\n",
      "- F1 score: 0.9467\n",
      "- Precision: 0.8974\n",
      "- Recall: 1.0000\n",
      "- Roc Auc Score: 0.9500\n",
      "===================================\n",
      "\n",
      "\n",
      "XGBClassifier\n",
      "----------------------------------\n",
      "Model performance for Test set\n",
      "- Accuracy: 0.9800\n",
      "- F1 score: 0.9800\n",
      "- Precision: 0.9589\n",
      "- Recall: 1.0000\n",
      "- Roc Auc Score: 0.9813\n",
      "===================================\n",
      "\n",
      "\n",
      "CatBoosting Classifier\n",
      "----------------------------------\n",
      "Model performance for Test set\n",
      "- Accuracy: 0.9800\n",
      "- F1 score: 0.9800\n",
      "- Precision: 0.9589\n",
      "- Recall: 1.0000\n",
      "- Roc Auc Score: 0.9813\n",
      "===================================\n",
      "\n",
      "\n",
      "Support Vector Classifier\n",
      "----------------------------------\n",
      "Model performance for Test set\n",
      "- Accuracy: 0.9733\n",
      "- F1 score: 0.9734\n",
      "- Precision: 0.9583\n",
      "- Recall: 0.9857\n",
      "- Roc Auc Score: 0.9741\n",
      "===================================\n",
      "\n",
      "\n",
      "AdaBoost Classifier\n",
      "----------------------------------\n",
      "Model performance for Test set\n",
      "- Accuracy: 0.9800\n",
      "- F1 score: 0.9800\n",
      "- Precision: 0.9589\n",
      "- Recall: 1.0000\n",
      "- Roc Auc Score: 0.9813\n",
      "===================================\n",
      "\n",
      "\n"
     ]
    }
   ],
   "source": [
    "models = {\n",
    "    \"Random Forest\": RandomForestClassifier(),\n",
    "    \"Decision Tree\": DecisionTreeClassifier(),\n",
    "    \"Gradient Boosting\": GradientBoostingClassifier(),\n",
    "    \"Logistic Regression\": LogisticRegression(),\n",
    "     \"K-Neighbors Classifier\": KNeighborsClassifier(),\n",
    "    \"XGBClassifier\": XGBClassifier(), \n",
    "     \"CatBoosting Classifier\": CatBoostClassifier(verbose=False),\n",
    "     \"Support Vector Classifier\": SVC(),\n",
    "    \"AdaBoost Classifier\": AdaBoostClassifier()\n",
    "}\n",
    "\n",
    "for i in range(len(list(models))):\n",
    "    model = list(models.values())[i]\n",
    "    model.fit(X_train, y_train) # Train model\n",
    "\n",
    "    # Make predictions\n",
    "    y_train_pred = model.predict(X_train)\n",
    "    y_test_pred = model.predict(X_test)\n",
    "\n",
    "    # Test set performance\n",
    "    model_test_accuracy = accuracy_score(y_test, y_test_pred) # Calculate Accuracy\n",
    "    model_test_f1 = f1_score(y_test, y_test_pred, average='weighted') # Calculate F1-score\n",
    "    model_test_precision = precision_score(y_test, y_test_pred) # Calculate Precision\n",
    "    model_test_recall = recall_score(y_test, y_test_pred) # Calculate Recall\n",
    "    model_test_rocauc_score = roc_auc_score(y_test, y_test_pred) #Calculate Roc\n",
    "\n",
    "    print(list(models.keys())[i])\n",
    "      \n",
    "    print('----------------------------------')\n",
    "    \n",
    "    print('Model performance for Test set')\n",
    "    print('- Accuracy: {:.4f}'.format(model_test_accuracy))\n",
    "    print('- F1 score: {:.4f}'.format(model_test_f1))\n",
    "    print('- Precision: {:.4f}'.format(model_test_precision))\n",
    "    print('- Recall: {:.4f}'.format(model_test_recall))\n",
    "    print('- Roc Auc Score: {:.4f}'.format(model_test_rocauc_score))\n",
    "\n",
    "    \n",
    "    print('='*35)\n",
    "    print('\\n')"
   ]
  },
  {
   "cell_type": "markdown",
   "id": "8ac46818",
   "metadata": {},
   "source": [
    "**Results of All Models**"
   ]
  },
  {
   "cell_type": "markdown",
   "id": "e732b1ba",
   "metadata": {},
   "source": [
    "| Model Name      | Accuracy |\n",
    "| ----------- | ----------- |\n",
    "| Random Forest | 0.9933       |\n",
    "|XGBClassifier   | 0.9870        |\n",
    "| AdaBoost Classifier   | 0.9800        |\n",
    "| CatBoosting Classifier   | 0.9800        |\n",
    "| Decision Tree   | 0.9800        |\n",
    "| Gradient Boosting   | 0.9800        |\n",
    "| Logistic Regression   | 0.9800        |\n",
    "| Support Vector Classifier   | 0.9733        |\n",
    "| K-Neighbors Classifier   | 0.9467        |"
   ]
  },
  {
   "cell_type": "markdown",
   "id": "9bc98424",
   "metadata": {},
   "source": [
    "###  We can use cross validation score for further evaluation.\n",
    "\n",
    "Cross-validation is a statistical method used to estimate the accuracy of machine learning models. It is used to protect against overfitting in a predictive model, particularly in a case where the amount of data may be limited.\n",
    "\n",
    "Stratified kfold cross validation is an extension of regular kfold cross validation but specifically for classification problems where rather than the splits being completely random, the ratio between the target classes is the same in each fold as it is in the full dataset."
   ]
  },
  {
   "cell_type": "markdown",
   "id": "a1f8133d",
   "metadata": {},
   "source": [
    "## Hyperopt: Distributed Hyperparameter Optimization"
   ]
  },
  {
   "cell_type": "markdown",
   "id": "3fcb5d13",
   "metadata": {},
   "source": [
    "* Hyperopt is a powerful python library for hyperparameter optimization developed by James Bergstra. Hyperopt uses a form of Bayesian optimization for parameter tuning that allows you to get the best parameters for a given model.\n",
    "* Grid Search is exhaustive in case of Resources usage.\n",
    "* Random Search, is random, so could miss the most important values. However, there is a superior method available through the Hyperopt package"
   ]
  },
  {
   "cell_type": "markdown",
   "id": "bc95de50",
   "metadata": {},
   "source": [
    "**Search space is where Hyperopt really gives you a many of sampling options:**\n",
    "\n",
    "* for categorical parameters you have hp.choice\n",
    "* for integers you get hp.randit, hp.quniform, hp.qloguniform and hp.qlognormal\n",
    "* for floats we have hp.normal,  hp.uniform, hp.lognormal and hp.loguniform\n",
    "* It is the most extensive sampling functionality out there.\n",
    "\n",
    "You define your search space before you run optimization but you can create very complex parameter spaces:"
   ]
  },
  {
   "cell_type": "code",
   "execution_count": 38,
   "id": "781d6408",
   "metadata": {},
   "outputs": [],
   "source": [
    "from hyperopt import tpe,hp,Trials,space_eval\n",
    "from hyperopt.fmin import fmin\n",
    "from hyperopt.pyll import scope"
   ]
  },
  {
   "cell_type": "markdown",
   "id": "ea582a2d",
   "metadata": {},
   "source": [
    "**This is a function to minimize that receives hyperparameters values as input from the search space and returns the loss**"
   ]
  },
  {
   "cell_type": "code",
   "execution_count": 39,
   "id": "4b0b8dc3",
   "metadata": {},
   "outputs": [],
   "source": [
    "def rf_objective(params):\n",
    "    model=RandomForestClassifier(**params, n_jobs=-1)\n",
    "    acc = cross_val_score(model, X_res, y_res, scoring=\"accuracy\").mean()\n",
    "    return -acc"
   ]
  },
  {
   "cell_type": "markdown",
   "id": "a62dc85c",
   "metadata": {},
   "source": [
    "* As hyperopt minimizes the function, that why negative sign in the accuracy. so that we get best accuracy as objective"
   ]
  },
  {
   "cell_type": "code",
   "execution_count": 41,
   "id": "6ed25161",
   "metadata": {},
   "outputs": [
    {
     "name": "stdout",
     "output_type": "stream",
     "text": [
      "100%|█████████████████████████████████████████████| 100/100 [01:43<00:00,  1.03s/trial, best loss: -0.9940000000000001]\n"
     ]
    }
   ],
   "source": [
    "# Define the paramters\n",
    "params={'n_estimators':hp.randint('n_estimators',100,500),\n",
    "        'max_depth':hp.randint('max_depth',5,40),\n",
    "        'min_samples_leaf':hp.randint('min_samples_leaf',2,10),\n",
    "        'min_samples_split':hp.randint('min_samples_split',2,10),\n",
    "        'criterion':hp.choice('criterion',['gini','entropy']),    \n",
    "        'max_features':hp.choice('max_features',['sqrt', 'log2']),\n",
    "       }\n",
    "\n",
    "rf_trials = Trials()\n",
    "\n",
    "# Using Fmin function to get best rf_objective\n",
    "best_rf= fmin(\n",
    "    fn=rf_objective,\n",
    "    space=params,\n",
    "    algo=tpe.suggest,\n",
    "    trials=rf_trials,\n",
    "    max_evals=100,\n",
    "    rstate=np.random.default_rng()\n",
    ")"
   ]
  },
  {
   "cell_type": "code",
   "execution_count": 42,
   "id": "93883916",
   "metadata": {},
   "outputs": [
    {
     "data": {
      "text/plain": [
       "{'criterion': 0,\n",
       " 'max_depth': 33,\n",
       " 'max_features': 0,\n",
       " 'min_samples_leaf': 2,\n",
       " 'min_samples_split': 8,\n",
       " 'n_estimators': 277}"
      ]
     },
     "execution_count": 42,
     "metadata": {},
     "output_type": "execute_result"
    }
   ],
   "source": [
    "best_rf"
   ]
  },
  {
   "cell_type": "markdown",
   "id": "4d735abe",
   "metadata": {},
   "source": [
    "**Xgboost Classifier Hyperparamter tuning**"
   ]
  },
  {
   "cell_type": "code",
   "execution_count": 43,
   "id": "a1a6d1bd",
   "metadata": {},
   "outputs": [],
   "source": [
    "def xgb_objective(params):\n",
    "    model=XGBClassifier(**params, n_jobs=-1)\n",
    "    acc = cross_val_score(model, X_res, y_res, scoring=\"accuracy\").mean()\n",
    "    return -acc"
   ]
  },
  {
   "cell_type": "code",
   "execution_count": 44,
   "id": "b6f97f3b",
   "metadata": {},
   "outputs": [
    {
     "name": "stdout",
     "output_type": "stream",
     "text": [
      "100%|█████████████████████████████████████████████| 100/100 [00:35<00:00,  2.82trial/s, best loss: -0.9940000000000001]\n"
     ]
    }
   ],
   "source": [
    "# Define the paramters\n",
    "xgboost_params = {\"learning_rate\": hp.choice('learning_rate',[0.0001, 0.001, 0.01, 0.1, 0.2, 0.3]),\n",
    "              \"max_depth\": hp.randint('max_depth',5,40),\n",
    "              \"n_estimators\": hp.randint('n_estimators',100,500),\n",
    "              \"colsample_bytree\": hp.uniform(\"colsample_bytree\",0,1),\n",
    "              \"seed\":42\n",
    "                }\n",
    "\n",
    "xgb_trails =Trials()\n",
    "\n",
    "# Using Fmin function to get best xgb_objective\n",
    "best_xgb= fmin(\n",
    "    fn=xgb_objective,\n",
    "    space=xgboost_params,\n",
    "    algo=tpe.suggest,\n",
    "    trials=xgb_trails,\n",
    "    max_evals=100,\n",
    "    rstate=np.random.default_rng()\n",
    ")"
   ]
  },
  {
   "cell_type": "code",
   "execution_count": 45,
   "id": "a2d80c08",
   "metadata": {},
   "outputs": [
    {
     "data": {
      "text/plain": [
       "{'colsample_bytree': 0.27137482068126373,\n",
       " 'learning_rate': 2,\n",
       " 'max_depth': 15,\n",
       " 'n_estimators': 235}"
      ]
     },
     "execution_count": 45,
     "metadata": {},
     "output_type": "execute_result"
    }
   ],
   "source": [
    "best_xgb"
   ]
  },
  {
   "cell_type": "code",
   "execution_count": null,
   "id": "52c226c9",
   "metadata": {},
   "outputs": [],
   "source": [
    "xgb_trails."
   ]
  },
  {
   "cell_type": "markdown",
   "id": "9f56678e",
   "metadata": {},
   "source": [
    "* `xgb_trails.trails` can be used to check all trail evaluation which has been during hyper paramter tuning.\n",
    "* `xgb_trails.best_trail` can be used to check best trail. which has given best accuracy."
   ]
  },
  {
   "cell_type": "markdown",
   "id": "204ad8c1",
   "metadata": {},
   "source": [
    "**Stratified K-fold Cross Validation Technique on 2 algorithm to know the exact Mean CV accuracy score**"
   ]
  },
  {
   "cell_type": "code",
   "execution_count": 87,
   "id": "0d91f186",
   "metadata": {},
   "outputs": [],
   "source": [
    "from sklearn.model_selection import cross_val_score,StratifiedKFold\n",
    "skfold = StratifiedKFold(n_splits=5)"
   ]
  },
  {
   "cell_type": "code",
   "execution_count": 88,
   "id": "b40066de",
   "metadata": {
    "scrolled": false
   },
   "outputs": [
    {
     "name": "stdout",
     "output_type": "stream",
     "text": [
      "Random Forest Classifier CV Mean Accuarcy Score is 99.4\n"
     ]
    }
   ],
   "source": [
    "rf_cv_result = cross_val_score(RandomForestClassifier(criterion= 'gini', max_depth= 33, \n",
    "                                                      max_features= 'sqrt', min_samples_leaf= 2,\n",
    "                                                      min_samples_split= 8 ,n_estimators= 277),\n",
    "                                                      X_res, y_res, cv=skfold,scoring=\"accuracy\",n_jobs=-1\n",
    "                              )\n",
    "\n",
    "rf_cv = rf_cv_result.mean()*100\n",
    "print('Random Forest Classifier CV Mean Accuarcy Score is {}'.format(rf_cv))"
   ]
  },
  {
   "cell_type": "code",
   "execution_count": 89,
   "id": "e950a4c6",
   "metadata": {},
   "outputs": [
    {
     "name": "stdout",
     "output_type": "stream",
     "text": [
      "XGB Classifier CV Mean Accuarcy Score is 99.4\n"
     ]
    }
   ],
   "source": [
    "xgb_cv_result = cross_val_score(XGBClassifier(colsample_bytree=0.27137482068126373,learning_rate=0.01,\n",
    "                                              max_depth=15, n_estimators=235, seed=42), X_res, y_res, cv=skfold,\n",
    "                                              scoring=\"accuracy\",n_jobs=-1\n",
    "                               )\n",
    "\n",
    "xgb_cv = xgb_cv_result.mean()*100\n",
    "print('XGB Classifier CV Mean Accuarcy Score is {}'.format(xgb_cv))"
   ]
  },
  {
   "cell_type": "markdown",
   "id": "e76d624f",
   "metadata": {},
   "source": [
    "| Model Name      | Cross_val_score |\n",
    "| ----------- | ----------- |\n",
    "| Random Forest | 99.40%       |\n",
    "|XGBClassifier   | 99.40%        |"
   ]
  },
  {
   "cell_type": "markdown",
   "id": "109cccb4",
   "metadata": {},
   "source": [
    "### Best Model is Random Forest Classifier and Xgboost Classifier with 99.40 % in Cross validation"
   ]
  },
  {
   "cell_type": "code",
   "execution_count": null,
   "id": "4b9bc7d6",
   "metadata": {},
   "outputs": [],
   "source": []
  }
 ],
 "metadata": {
  "kernelspec": {
   "display_name": "Python 3 (ipykernel)",
   "language": "python",
   "name": "python3"
  },
  "language_info": {
   "codemirror_mode": {
    "name": "ipython",
    "version": 3
   },
   "file_extension": ".py",
   "mimetype": "text/x-python",
   "name": "python",
   "nbconvert_exporter": "python",
   "pygments_lexer": "ipython3",
   "version": "3.9.12"
  }
 },
 "nbformat": 4,
 "nbformat_minor": 5
}
