{
 "cells": [
  {
   "cell_type": "markdown",
   "metadata": {},
   "source": [
    "# About Data:\n",
    "- Data is \"Information in digital form in computers and can be transmitted or processed \".\n",
    "- Data Science considers 2 types of data\n",
    "    1. Numerical data or quantitive data\n",
    "       * Discrete data (integer or float)\n",
    "       * Continuous data (average )\n",
    "    2. Categorical data or qualitive data\n",
    "       * Ordinal data (order is impotant)\n",
    "       * Nominal data (order does not important)\n",
    "- Images,Audio and video data\n",
    "- Spartial data\n",
    "- Binary data (image data)"
   ]
  },
  {
   "cell_type": "markdown",
   "metadata": {},
   "source": [
    "# What is Machine Learning(ML):\n",
    "- Machine learning represents computer algorithms which can observe and analyze data on their own.That means,first of all we should collect data related to a particular area.Then we have to develop an algorithm through which we can represent the relationship between various elements in the data.\n",
    "- This algorithm is called machine learning model.This model works like bran for the computer in understanding tha data.\n",
    "- We split the data generally two parts: \n",
    "    * Train data - Train data is used to provide training to the model.\n",
    "    * Test data - After the training,the model will be able to predict the future behavior with new data,called test data.That means we can test the model with test data whether its is working properly or not.\n",
    "- Three Types of Algorithm used for ML:\n",
    "- Supervised ML\n",
    "    1. Classification for Predicting Class labels\n",
    "    2. Regression for Predicting Continuous outcomes\n",
    "- Unsupervised ML\n",
    "    * Finding subgroups with Clustering.\n",
    "    * Dimensionality Reduction for Data Compression \n",
    "- Reinforcement ML "
   ]
  },
  {
   "cell_type": "markdown",
   "metadata": {},
   "source": [
    "# Machine Learning Terminology:\n",
    "- Training - Model fitting for parametric models similar to parameter estimation.\n",
    "- Feature,abbrev.x - A column in a data table or data(design) matrix.Synonymous with predictor,independent variable,input,attribute or covariate.\n",
    "- Target,abbrev.y - Synonymous with response,dependent variable,output,outcome,label(class) and ground truth.\n",
    "- Loss function - Synonymously with cost function.sometimes the loss function is also called an error function.In term Loss\" refers to the loss measured for a single data point and the cost is a measurement the computes the loss(average or summed) over the entire dataset."
   ]
  },
  {
   "cell_type": "markdown",
   "metadata": {},
   "source": [
    "#### Preprocessing - getting data into shape.\n",
    "-   The selected features are on the same scale for optimal performance ,transforming the features in the range of [0,1] or a standard normal distribution with zero mean and unit variance.\n",
    "-   The selected features may be highly correlated and therefore redundant to a certain degree. Dimensionality reduction techniques are useful for compressing the features onto a lower dimensional subspace.\n",
    "-   Dimensionality Reduction can also improve the predictive performance of a model if the dataset contains a large number of irrelevant features(or noise)."
   ]
  },
  {
   "cell_type": "markdown",
   "metadata": {},
   "source": [
    "# Some Example of Machine Learning:\n",
    "1. Predicting Traffic Conditions\n",
    "2. Product Recommendations\n",
    "3. Voice Recognition System\n",
    "4. Stock Price Predictions\n",
    "5. Medical Diagnosis\n",
    "6. Spam Email filtering"
   ]
  },
  {
   "cell_type": "markdown",
   "metadata": {},
   "source": [
    "# What is Deep Learning(DL):\n",
    "- Deep Learning is a subset of Machine learning where Machines learn on their own using Artificial Neural Network(ANN).\n",
    "- ANN contains several layers and in each layer,there will be several nodes.\n",
    "- Each node take data and sends that data to the next layer where the data is processed. \n"
   ]
  },
  {
   "cell_type": "markdown",
   "metadata": {},
   "source": [
    "# Some Example of Deep Learning:\n",
    "1. Image Recognition\n",
    "2. Sentiment Analysis\n",
    "3. Language Translation\n",
    "4. Music Composition\n"
   ]
  },
  {
   "cell_type": "markdown",
   "metadata": {},
   "source": [
    "# What is Artificial Intelligence(AI):\n",
    "- Artificial Intelligence represents the techinques to provide machine with the ability to think and act like human beings.\n",
    "- Deep learning is also used in ANN. \n"
   ]
  },
  {
   "cell_type": "markdown",
   "metadata": {},
   "source": [
    "# Some Example of Artificial Intelligence:\n"
   ]
  },
  {
   "cell_type": "markdown",
   "metadata": {},
   "source": [
    "  1. Self driving cars\n",
    "  2. AI Robots"
   ]
  },
  {
   "cell_type": "markdown",
   "metadata": {},
   "source": [
    "# Supervised Learning vs Unsupervised Learning:\n",
    "![supervised_unsupervised](https://miro.medium.com/v2/resize:fit:575/1*CFFuQ6DGrw6xakXeEQgFSg.png)"
   ]
  },
  {
   "cell_type": "markdown",
   "metadata": {},
   "source": []
  }
 ],
 "metadata": {
  "kernelspec": {
   "display_name": "ml_env",
   "language": "python",
   "name": "python3"
  },
  "language_info": {
   "name": "python",
   "version": "3.11.0"
  }
 },
 "nbformat": 4,
 "nbformat_minor": 2
}
