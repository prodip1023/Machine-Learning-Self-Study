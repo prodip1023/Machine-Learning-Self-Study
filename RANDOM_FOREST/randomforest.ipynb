{
 "cells": [
  {
   "cell_type": "markdown",
   "metadata": {},
   "source": [
    "<div style=\"text-align: center; color: yellow; font-size: 24px; font-weight: bold;\">\n",
    "    RANDOM FOREST\n",
    "</div>"
   ]
  },
  {
   "cell_type": "markdown",
   "metadata": {},
   "source": [
    "- Special case of the bagging where by default we are using Decision Tree.\n",
    "- Random + Forest = Parallel + collection of trees (special case of DT)\n",
    "- Random Forest is Homogeneous technique and Parallel \n",
    "- RF = Bootstrap + Aggregation\n",
    "- Both Classification and Regression Tasks perform.\n",
    "- The idea behind a Random Forest is to build a multitude of decision trees during training and output the mode/frequencies/majority (for Classification) or mean/average (for Regression) prediction of the individual trees as the final prediction.\n",
    "- Steps involve:\n",
    "   * Decision Trees as Base models\n",
    "   * Bootstrap Sampling\n",
    "   * Random Feature Selection\n",
    "   * Ensemble of Trees\n",
    "   * Voting (for Classification) or Average (for Regression) "
   ]
  },
  {
   "cell_type": "markdown",
   "metadata": {},
   "source": [
    "![iamge](https://miro.medium.com/v2/resize:fit:1400/1*jE1Cb1Dc_p9WEOPMkC95WQ.png)"
   ]
  },
  {
   "cell_type": "markdown",
   "metadata": {},
   "source": [
    "![image](https://images.javatpoint.com/tutorial/machine-learning/images/random-forest-algorithm2.png)"
   ]
  },
  {
   "cell_type": "markdown",
   "metadata": {},
   "source": [
    "- Advantages:\n",
    "    * Reduce Overfitting\n",
    "    * High Accuracy\n",
    "    * Implicit Feature importance"
   ]
  },
  {
   "cell_type": "markdown",
   "metadata": {},
   "source": [
    "- Disadvantage:\n",
    "  * It may take more time to predict results. "
   ]
  },
  {
   "cell_type": "markdown",
   "metadata": {},
   "source": [
    "<span style=\"color:yellow;font-size: 24px\">OUT-OF-BAG(oob)SCORE</span>  🚀."
   ]
  },
  {
   "cell_type": "markdown",
   "metadata": {},
   "source": [
    "- The \"Out-of-bag(obb)\" score is a concept associated with ensemble learning methods,particularly with decision tree based on algorithms like Random Forest.\n",
    "- The obb score is a way to estimate the performance of a model without the need for a seperate validation set."
   ]
  },
  {
   "cell_type": "markdown",
   "metadata": {},
   "source": []
  }
 ],
 "metadata": {
  "kernelspec": {
   "display_name": "ml_env",
   "language": "python",
   "name": "python3"
  },
  "language_info": {
   "codemirror_mode": {
    "name": "ipython",
    "version": 3
   },
   "file_extension": ".py",
   "mimetype": "text/x-python",
   "name": "python",
   "nbconvert_exporter": "python",
   "pygments_lexer": "ipython3",
   "version": "3.11.0"
  }
 },
 "nbformat": 4,
 "nbformat_minor": 2
}
