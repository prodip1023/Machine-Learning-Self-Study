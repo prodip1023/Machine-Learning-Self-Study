{
 "cells": [
  {
   "cell_type": "markdown",
   "metadata": {},
   "source": [
    "<div style=\"text-align: center; color: blue; font-size: 24px; font-weight: bold;\">\n",
    "    UNDERFITTING AND OVERFITTING\n",
    "</div>"
   ]
  },
  {
   "cell_type": "markdown",
   "metadata": {},
   "source": [
    "- Overfitting :\n",
    "   - Overfitting occurs when a machine learning learns the training data too well,capturing noise,and fluctions that do not represent true patterns.As a result,an overfit model performs well on the training set but fails to generate to new or unseen data.\n",
    "   - BOOKS - TRAIN - MODEL IS TRAINING - ACCURACY-95%  (BIAS)\n",
    "   - BOOKS - TEST - MODEL IS TESTING - ACCURACY- 65% (VARIANCE)\n",
    "   - LOW BIAS AND HIGH VARIANCE "
   ]
  },
  {
   "cell_type": "markdown",
   "metadata": {},
   "source": [
    "- Underfitting:\n",
    "    - Underfitting occurs when a model is too simple to capture the underlying patterns in the data.It results in poor performance on both the training set and new,unseen data\n",
    "    - BOOKS - TRAIN - MODEL IS TRAINING - ACCURACY- 55% (BIAS)\n",
    "    - BOOKS - TEST - MODEL IS TESTING - ACCURACY- 50% (VARIANCE)\n",
    "    - HIGH BIAS AND LOW VARIANCE/HIGH VARIANCE"
   ]
  },
  {
   "cell_type": "markdown",
   "metadata": {},
   "source": [
    "- AIM GENERALIZED MODEL:\n",
    "    - TRAIN ACCURACY - HIGH \n",
    "    - TEST ACCURACY - HIGH \n",
    "    - LOW BAIS AND LOW VARIANCE"
   ]
  },
  {
   "cell_type": "markdown",
   "metadata": {},
   "source": [
    "- MITIGATE OVERFITTING AND UNDERFITTING:\n",
    "  - REGULARIZATION (L1 OR L2)\n",
    "  - CROSS VALIDATION\n",
    "  - FEATURE ENGINEERING\n",
    "  - ENSEMBLE METHOD"
   ]
  },
  {
   "cell_type": "markdown",
   "metadata": {},
   "source": [
    "![image](https://media.geeksforgeeks.org/wp-content/uploads/20230829151403/Bias-and-Variance-in-Machine-Learning.webp)"
   ]
  },
  {
   "cell_type": "markdown",
   "metadata": {},
   "source": [
    "<div style=\"text-align: center; color: yellow; font-size: 24px; font-weight: bold;\">\n",
    "    CROSS VALIDATION\n",
    "</div>"
   ]
  },
  {
   "cell_type": "markdown",
   "metadata": {},
   "source": [
    "- While applying a Machine Learning model on the data,we first split the data into 2 parts: 1. train data and test data.Then apply the model on the train data so that the model will get trained on that data.\n",
    "- During this phase,the model observes the data and fits data according to some algorithm or logic.\n",
    "- After that,the model is used on the test daya to see how its is performing on the test data.The performance of the model can be estimated from the accuracy score of the model."
   ]
  },
  {
   "cell_type": "markdown",
   "metadata": {},
   "source": [
    "![image](https://media.geeksforgeeks.org/wp-content/uploads/crossValidation.jpg)"
   ]
  },
  {
   "cell_type": "markdown",
   "metadata": {},
   "source": [
    "<span style=\"color:blue;font-size: 24px\">TYPES OF CROSS VALIDATION</span>  🚀."
   ]
  },
  {
   "cell_type": "markdown",
   "metadata": {},
   "source": [
    "1. LOOCV(Leave One Out Cross Validation)\n",
    "2. Hold out Cross Validation\n",
    "3. K-Fold Cross Validation\n",
    "4. Stratified K-Fold Cross Validation\n",
    "5. Time Series Cross Validation"
   ]
  },
  {
   "cell_type": "markdown",
   "metadata": {},
   "source": [
    "<span style=\"color:purple;font-size: 24px\">K-FOLD CROSS VALIDATION</span>  🚀."
   ]
  },
  {
   "cell_type": "markdown",
   "metadata": {},
   "source": [
    "- We can divide the dataset into \"K\" blocks where K can be 1,2 or 10.This is called K-fold Cross Validation.\n",
    "- K refers to the number of portions the dataset is divided into.\n",
    "- K is selected based on the size of dataset."
   ]
  },
  {
   "cell_type": "markdown",
   "metadata": {},
   "source": [
    "![image](https://miro.medium.com/v2/resize:fit:1400/1*AAwIlHM8TpAVe4l2FihNUQ.png)"
   ]
  },
  {
   "cell_type": "markdown",
   "metadata": {},
   "source": [
    "- In K-Fold Cross Validation the final accuracy of the Model is taken as the average of accuracy obtained from all the steps."
   ]
  }
 ],
 "metadata": {
  "language_info": {
   "name": "python"
  }
 },
 "nbformat": 4,
 "nbformat_minor": 2
}
