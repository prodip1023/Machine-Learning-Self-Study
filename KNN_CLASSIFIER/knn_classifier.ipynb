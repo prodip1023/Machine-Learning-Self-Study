{
 "cells": [
  {
   "cell_type": "markdown",
   "metadata": {},
   "source": [
    "<div style=\"text-align: center; color: blue; font-size: 24px; font-weight: bold;\">\n",
    "K NEAREST NEIGHBOUR CLASSIFIER(KNN)\n",
    "</div>"
   ]
  },
  {
   "cell_type": "markdown",
   "metadata": {},
   "source": [
    "- It is an algorithm or logic that classifies a new data point based on its nearet neighbours.\n",
    "- A group of neighbours are selected (this is k value) and the data point is classified under that class to which of mejority neighbours belong.\n",
    "- K represents the number of nearest neighbours selected.Choosing k value properly will give me more accuracy(Using Parameter tuning)\n",
    "- Both Classification(majority of class) and Regression(Average value) task.\n",
    "- Feature scaling is very important in KNN."
   ]
  },
  {
   "cell_type": "markdown",
   "metadata": {},
   "source": [
    "![image](https://miro.medium.com/v2/resize:fit:1182/0*sYMSaIon56Qng2hF.png)"
   ]
  },
  {
   "cell_type": "markdown",
   "metadata": {},
   "source": [
    "- When k value is taken as 3,KNN classifier locates 3 elements which are nearest to the new element.\n",
    "- KNN Machine Learning Model,k represents the number of nearest neighbours choosen by the Model.Selecting the k value is crucial to get accurate oredictions from the model."
   ]
  },
  {
   "cell_type": "markdown",
   "metadata": {},
   "source": [
    "<span style=\"color:yellow;font-size: 24px\">HOW TO SELECT K VALUE</span>  🚀."
   ]
  },
  {
   "cell_type": "markdown",
   "metadata": {},
   "source": [
    "- Heuristic Method and Median Based approach\n",
    "- While using KNN model, most of the Data Scientists and Data Analytics Professionals take k value depeding on the following criteria:\n",
    "1. K value is chosen as square root of the total number of test data points.\n",
    "2. K value always taken odd number. \n",
    "   * If K value is even number and when there are two classes of elements and the two classes are equally representing the new element,the classifier will have confusion in deciding the class of the new element.To avoid such a situation ,K always taken odd number.\n",
    "3. We can also create the model on different values of k and check their performance(or accuracy).We can select that value of k for which the performance is highest.  "
   ]
  },
  {
   "cell_type": "markdown",
   "metadata": {},
   "source": [
    "- Generally,KNN model is used on the data which is labeled(or target).\n",
    "- KNN model works well in case of small dataset where the dataset does not contain millions of records."
   ]
  },
  {
   "cell_type": "markdown",
   "metadata": {},
   "source": [
    "- KNN model decide the nearest neighbours depending on the distance from the neighbouring point to the new data point.\n",
    "- Use distance - Euclidean Distance or Minkowski Distance in KNN model\n",
    "- Minkowski Distance - combined of Manhattan distance and Euclidean Distance"
   ]
  },
  {
   "cell_type": "markdown",
   "metadata": {},
   "source": [
    "![image](https://encrypted-tbn0.gstatic.com/images?q=tbn:ANd9GcSU9We4WdLG_Rek-Pa0PKyw9P6GzDK5KFRv6w&s)"
   ]
  },
  {
   "cell_type": "markdown",
   "metadata": {},
   "source": [
    "![iamge](https://miro.medium.com/v2/resize:fit:1400/1*QGeadTTw3-zTmqxOyZPzDg.png)"
   ]
  },
  {
   "cell_type": "markdown",
   "metadata": {},
   "source": [
    "<span style=\"color:orange;font-size: 24px\">TWO TECHNIQUES IN KNN</span>  🚀."
   ]
  },
  {
   "cell_type": "markdown",
   "metadata": {},
   "source": [
    "1. Brute Force - We navigate every data point\n",
    "2. Index Based - No need to traverse each and every data point\n",
    "    - KD Tree [K- Dimension]\n",
    "    - Ball Tree \n",
    "- Use for optimization and time complexity.  "
   ]
  },
  {
   "cell_type": "markdown",
   "metadata": {},
   "source": [
    "- Use:\n",
    "  1. Missing value imputing"
   ]
  },
  {
   "cell_type": "markdown",
   "metadata": {},
   "source": [
    "<span style=\"color:blue;font-size: 24px\">ADVANTAGES</span>  🚀.\n"
   ]
  },
  {
   "cell_type": "markdown",
   "metadata": {},
   "source": [
    "- Easy to implement/understand\n",
    "- Few hyperparameter"
   ]
  },
  {
   "cell_type": "markdown",
   "metadata": {},
   "source": [
    "<span style=\"color:yellow;font-size: 24px\">DISADVANTAGES</span>  🚀."
   ]
  },
  {
   "cell_type": "markdown",
   "metadata": {},
   "source": [
    "- Prone to overfitting\n",
    "- suffer from curse of multidimensionality\n",
    "- Dificult to scale (Lazy Algorithm)"
   ]
  },
  {
   "cell_type": "code",
   "execution_count": null,
   "metadata": {},
   "outputs": [],
   "source": []
  }
 ],
 "metadata": {
  "language_info": {
   "name": "python"
  }
 },
 "nbformat": 4,
 "nbformat_minor": 2
}
