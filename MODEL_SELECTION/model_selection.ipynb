{
 "cells": [
  {
   "cell_type": "markdown",
   "metadata": {},
   "source": [
    "<div style=\"text-align: center; color: blue; font-size: 24px; font-weight: bold;\">\n",
    "    MODEL SELECTION\n",
    "</div>"
   ]
  },
  {
   "cell_type": "markdown",
   "metadata": {},
   "source": [
    "- What to do when a Machine Leaning Model does not give expected accuracy with train or test data\n",
    "- How to select the best suitable Machine Leaning Model for the given data."
   ]
  },
  {
   "cell_type": "markdown",
   "metadata": {},
   "source": [
    "<div style=\"text-align: center; color: yellow; font-size: 24px; font-weight: bold;\">\n",
    "    GETTING BETTER PERFORMANCE FROM THE MODEL\n",
    "</div>"
   ]
  },
  {
   "cell_type": "markdown",
   "metadata": {},
   "source": [
    "- If our Model or Algorithm doesn't perfrom well,we have to try the following measure that will improve the Model "
   ]
  },
  {
   "cell_type": "markdown",
   "metadata": {},
   "source": [
    "1. Use More Training Data \n",
    "   - LOW BIAS AND HIGH VARIANCE - TRAINING ACCURACY IS HIGH BUT TEST ACCURACY IS LOW  - OVERFITTING\n",
    "   - HIGH BIAS AND LOW VARIANCE - TRAINING ACCURACY IS LOW BUT TEST ACCURACY IS HIGH - UNDERFITTING\n",
    "   - HIGH BIAS AND HIGH VARIANCE - This is uncommon but can happen in cases of poor model design or issues with data.We have to change the model.\n",
    "   - LOW BIAS AND LOW VARIANCE - This is the best case scenario.We have select this model.\n",
    "   - To reduce high variance ,we have to collect more training data.More training data will make the relationship between the variables clearer to the Model.\n",
    "   - Before giving data to a Model,It should have been pre-processed or cleaned."
   ]
  },
  {
   "cell_type": "markdown",
   "metadata": {},
   "source": [
    "![image](https://miro.medium.com/v2/resize:fit:823/1*73rrO1LlrJ7Ns-19WElVWw.png)"
   ]
  },
  {
   "cell_type": "markdown",
   "metadata": {},
   "source": [
    "2. Use Small Number of Features \n",
    "   - Eliminating the unnecessary features which are not contributing to the final output.\n",
    "   - Focusing only on important features\n",
    "   - Reducing dimensinality of the dataset by applying PCA.\n",
    "   - Smaller number of features willhelp to reduce variance. "
   ]
  },
  {
   "cell_type": "markdown",
   "metadata": {},
   "source": [
    "3. Adding Polynomial Features\n",
    "4. Regularization Parameter(lambda) \n",
    "   - Lambda value is increased,it reduce variance (Hyperparameter tuning)  "
   ]
  },
  {
   "cell_type": "markdown",
   "metadata": {},
   "source": [
    "<div style=\"text-align: center; color: green; font-size: 24px; font-weight: bold;\">\n",
    "    HOW TO SELECT A SUITABLE MODEL\n",
    "</div>"
   ]
  },
  {
   "cell_type": "markdown",
   "metadata": {},
   "source": [
    "1. Computing Power \n",
    " -  Decision Tree and Random Forest Model is a iterative models and take more time for testing.\n",
    " -  Logistic Regression and SVM model take less time with less computing power(processor)\n",
    "2. Selection Based on the Output\n",
    " -  Regression Task - output - Numerical\n",
    " -  Classification Task - output - Categorical\n",
    "3. Common Elements in the Features\n",
    " - When common elements are less than 50% ,we go for Logistic Regression,Naive Bayes,Decision Tree and Random Forest etc Model.\n",
    " - When common elements is 50% to 70% ,we go for SVM Model.\n",
    " - When common elements are more than 70%,we go for creating Artificial Neural Networks.\n",
    "4. Benchmark in the prediction\n",
    "- The following Models are called Probabilistic Models as they give result as probability (from 0 to 1)\n",
    "     - Logistic Regression\n",
    "     - Naive Bayes Classifier\n",
    "     - Decision Tree\n",
    "     - Random Forest \n",
    "5. Loss/Objective Function\n",
    "- ( original value - predict value ) is called loss function.\n",
    "6. Tuning Parameters and Hyperparameters\n",
    "7. Bias and Variance\n",
    "8. Scalability\n",
    "- When large volume of data is found,it is better go for Artificial Neural Networks\n",
    "9. Compare the Models"
   ]
  }
 ],
 "metadata": {
  "language_info": {
   "name": "python"
  }
 },
 "nbformat": 4,
 "nbformat_minor": 2
}
