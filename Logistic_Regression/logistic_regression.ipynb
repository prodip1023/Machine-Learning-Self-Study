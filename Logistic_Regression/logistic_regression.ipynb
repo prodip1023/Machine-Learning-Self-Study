{
 "cells": [
  {
   "cell_type": "markdown",
   "metadata": {},
   "source": [
    "<div style=\"text-align: center; color: blue; font-size: 24px; font-weight: bold;\">\n",
    "    LOGISTIC REGRESSION\n",
    "</div>"
   ]
  },
  {
   "cell_type": "markdown",
   "metadata": {},
   "source": [
    "- In Linear Regression models like Simple,Multiple and Polynomial Regressiom models are useful when we want to predict certain value.\n",
    "- For example,we can predict the home price at Boston or Salary of employee using these models.There values are called Continuous values.\n",
    "- In some cases,we can to predict values which are called Categorical .That means the values representing limited number of possibilities will come under categorical values.For example -"
   ]
  },
  {
   "cell_type": "markdown",
   "metadata": {},
   "source": [
    "- 1. An email is spam or not spam (only 2 possibilities like Spam/Not Spam)\n",
    "- 2. Gender of a person (only 2 possibilities like Male/Female)\n",
    "- 3. The martial status of person (only 4 possibilities like Single/Married/Windowed/Divorce)\n",
    "- 4. Which party a certain is going to vote for (only 3 possibilities like BJP,Congress Party,Trinamool Party)"
   ]
  },
  {
   "cell_type": "markdown",
   "metadata": {},
   "source": [
    "- When we want to predict the categorical data,that means where the data is classified,we can think about Logistic Regression Model.\n",
    "- So, Logistic Regression Model is one of the techniques for classification."
   ]
  },
  {
   "cell_type": "markdown",
   "metadata": {},
   "source": [
    "<div style=\"text-align: center; color: yellow; font-size: 24px; font-weight: bold;\">\n",
    "    CLASSIFICATION TYPES\n",
    "</div>"
   ]
  },
  {
   "cell_type": "markdown",
   "metadata": {},
   "source": [
    "- When the categorical data shows only two possibilities,then it is called \"Binary Classification\".For example - \n",
    "1. Will customer buy life insurance? 1. Yes 2. No\n",
    "2. What is the gender of the person? 1. Male 2. Female"
   ]
  },
  {
   "cell_type": "markdown",
   "metadata": {},
   "source": [
    "- When we have more than 2 possibilities,then it is called \"Multiclass Classification\".For example-\n",
    "1. Which party a person is going to vote? 1. BJP 2. Congress Party 3. Trinomool Party\n",
    "2. What is this written digit? 0 to 9 ,possibilities 10"
   ]
  },
  {
   "cell_type": "markdown",
   "metadata": {},
   "source": [
    "<div style=\"text-align: center; color: orange; font-size: 24px; font-weight: bold;\">\n",
    "    BINARY CLASSIFICATION USING LOGISTIC REGRESSION\n",
    "</div>"
   ]
  },
  {
   "cell_type": "markdown",
   "metadata": {},
   "source": [
    "- In Binary Classification,we have to predict one of two classes or groups of data.\n",
    "1. Will customer buy life insurance? 1. Yes 2. No\n",
    "2. What is the gender of the person? 1. Male 2. Female"
   ]
  },
  {
   "cell_type": "markdown",
   "metadata": {},
   "source": [
    "![image](https://miro.medium.com/v2/resize:fit:1400/1*dm6ZaX5fuSmuVvM4Ds-vcg.jpeg)"
   ]
  },
  {
   "cell_type": "markdown",
   "metadata": {},
   "source": [
    "![image2](https://miro.medium.com/v2/resize:fit:2000/1*JvsCmFDVPPTi5YiPItXKow.png)"
   ]
  },
  {
   "cell_type": "markdown",
   "metadata": {},
   "source": [
    "- t indicates Euler's number that nearly equals to 2.71828."
   ]
  },
  {
   "cell_type": "markdown",
   "metadata": {},
   "source": [
    "- Linear Regression Straight line formula, y = mx + b\n",
    "- Logistic Regression S shaped curved line formula, y = 1/(1 + e.exp(-mx-b))"
   ]
  },
  {
   "cell_type": "markdown",
   "metadata": {},
   "source": [
    "https://scikit-learn.org/1.5/modules/generated/sklearn.linear_model.LogisticRegression.html"
   ]
  },
  {
   "cell_type": "markdown",
   "metadata": {},
   "source": [
    "<div style=\"text-align: center; color: yellow; font-size: 24px; font-weight: bold;\">\n",
    "    PERFORMANCE METRICES\n",
    "</div>"
   ]
  },
  {
   "cell_type": "markdown",
   "metadata": {},
   "source": [
    "1. Confusion Matrix\n",
    "2. Accuracy\n",
    "3. Precision\n",
    "4. Recall\n",
    "5. F-beta score\n",
    "6. AUC-ROC (Area Under the receiver operating characteristic curve)\n",
    "7. AUC-PR (Area Under the precision-Recall Curve)\n",
    "   "
   ]
  },
  {
   "cell_type": "markdown",
   "metadata": {},
   "source": [
    "<div style=\"text-align: center; color: purple; font-size: 24px; font-weight: bold;\">\n",
    "    CONFUSION MATRIX\n",
    "</div>"
   ]
  },
  {
   "cell_type": "markdown",
   "metadata": {},
   "source": [
    "- There are several Machine Learning models available to analyze the data and come up with predictions on the new data.Most of the times,we divide the original data into 2 parts:train data and test data.\n",
    "- The train data is useful to train the model.During training,the model understands the relation between the pieces of data(or columns).Once this is established we have to provided the test data to the model to check how the model is performing with the new data(i.e. test data).\n",
    "- At this time,we want to know where our model is doing well and where our model is not performing well.This can be shown using a confusion matrix."
   ]
  },
  {
   "cell_type": "markdown",
   "metadata": {},
   "source": [
    "- A confusion matrix is a table of data that summarizes the performance of a  Machine Larning Model.It helps to know where the model is performing well and where it is failing.\n",
    "- Generally,Confusion matrix is created for the classification models to know their performance on test data.\n",
    "- Example. to create confusion matrix - Logistic Regression,SVM,K-Nearest Neighbours or Random Forest models."
   ]
  },
  {
   "cell_type": "markdown",
   "metadata": {},
   "source": [
    "![image3](https://glassboxmedicine.com/wp-content/uploads/2019/02/confusion-matrix.png?w=640)"
   ]
  },
  {
   "cell_type": "markdown",
   "metadata": {},
   "source": [
    "https://scikit-learn.org/1.5/modules/generated/sklearn.metrics.confusion_matrix.html"
   ]
  },
  {
   "cell_type": "markdown",
   "metadata": {},
   "source": [
    "- accuracy = (true_positive + true_negative)/(true_positive+false_postive+false_negative+true_negative)\n",
    "- precision = (true_positive) /(true_positive + false_postive)\n",
    "- recall = (true_positive) / (true_positive + false_negative)\n",
    "- f1_score = (2 * (recall * precision))/(recall + precision)\n",
    "\n",
    "\n"
   ]
  },
  {
   "cell_type": "markdown",
   "metadata": {},
   "source": [
    "<div style=\"text-align: center; color: white; font-size: 24px; font-weight: bold;\">\n",
    "    MULTICLASS  CLASSIFICATION USING LOGISTIC REGRESSION\n",
    "</div>"
   ]
  },
  {
   "cell_type": "markdown",
   "metadata": {},
   "source": [
    "- When the dependent variable has more than two possible values,it is called \"Multclass Clasification\"."
   ]
  },
  {
   "cell_type": "markdown",
   "metadata": {},
   "source": [
    "Q. Why we can not use Linear Regression for classification?\n",
    "-  Outlier (best fit line change)\n",
    "-  `>` 1 and `< `0 (squash line)"
   ]
  }
 ],
 "metadata": {
  "kernelspec": {
   "display_name": "ml_env",
   "language": "python",
   "name": "python3"
  },
  "language_info": {
   "name": "python",
   "version": "3.11.0"
  }
 },
 "nbformat": 4,
 "nbformat_minor": 2
}
