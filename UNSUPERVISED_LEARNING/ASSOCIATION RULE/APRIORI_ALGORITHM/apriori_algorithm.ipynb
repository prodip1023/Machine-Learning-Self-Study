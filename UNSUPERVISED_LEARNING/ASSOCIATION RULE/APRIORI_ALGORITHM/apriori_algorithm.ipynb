{
 "cells": [
  {
   "cell_type": "markdown",
   "metadata": {},
   "source": [
    "<div style=\"text-align: center; color: blue; font-size: 24px; font-weight: bold;\">\n",
    "    APRIORI ALGORITHM\n",
    "</div>"
   ]
  },
  {
   "cell_type": "markdown",
   "metadata": {},
   "source": [
    "- Apriori comes under unsupervised learning model.\n",
    "- It is a classic algorithm,is useful in data mining to find frequent item sets.\n",
    "- We can use this algorithm to find which items re most frequently brought together in a Super Market.\n",
    "- Threre are 3 main parameters used by this algorithm. 1. Support 2. Confidence and 3. Lift"
   ]
  }
 ],
 "metadata": {
  "kernelspec": {
   "display_name": "ml_env",
   "language": "python",
   "name": "python3"
  },
  "language_info": {
   "name": "python",
   "version": "3.11.0"
  }
 },
 "nbformat": 4,
 "nbformat_minor": 2
}
