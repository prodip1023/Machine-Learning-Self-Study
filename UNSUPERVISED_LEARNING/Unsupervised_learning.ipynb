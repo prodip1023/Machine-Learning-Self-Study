{
 "cells": [
  {
   "cell_type": "markdown",
   "metadata": {},
   "source": [
    "<span style=\"color:yellow;font-size: 24px\">Unsupervised Machine Learning Algorithm</span>  🚀."
   ]
  },
  {
   "cell_type": "markdown",
   "metadata": {},
   "source": [
    "1. Clustering(Grouping):\n",
    "    - K-means clustering\n",
    "    - K-means++ clustering\n",
    "    - Hierachical clustering\n",
    "    - DBSCAN(Density based spatial clustering of Application with Noise)\n",
    "    - Meanshift\n",
    "    - Gaussian Mixture Model(GMM)\n",
    "    - OPTICS(Ordering points to identify the clustering structure)\n",
    "    - Fuzzy C-Means (FCM)\n",
    "    - BRICH(Balanced Iterative Reducing and Clustering using Hierachies)\n",
    "  \n",
    "2. Dimensionality Reduction(Reduce Dimension):\n",
    "   -  Principal Component Analysis(PCA)\n",
    "   -  t-Distributed Stochastic Neighbour Embedding (t-SNE)\n",
    "   -  Linear Discriminant Analysis(LDA)\n",
    "   -  Autoencoder \n",
    "3. Association:\n",
    "   - Apori Algorithm  "
   ]
  },
  {
   "cell_type": "markdown",
   "metadata": {},
   "source": []
  }
 ],
 "metadata": {
  "kernelspec": {
   "display_name": "ml_env",
   "language": "python",
   "name": "python3"
  },
  "language_info": {
   "name": "python",
   "version": "3.11.0"
  }
 },
 "nbformat": 4,
 "nbformat_minor": 2
}
