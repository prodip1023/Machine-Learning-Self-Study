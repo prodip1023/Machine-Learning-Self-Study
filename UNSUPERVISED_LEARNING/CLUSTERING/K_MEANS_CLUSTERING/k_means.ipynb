{
 "cells": [
  {
   "cell_type": "markdown",
   "metadata": {},
   "source": [
    "<div style=\"text-align: center; color: blue; font-size: 24px; font-weight: bold;\">\n",
    "    K MEANS CLUSTERING\n",
    "</div>"
   ]
  },
  {
   "cell_type": "markdown",
   "metadata": {},
   "source": [
    "- A cluster represents a group or class of objects.\n",
    "- K-Means Clustering is a Machine Learning Model that groups the elements into various clusters.\n",
    "- The number of cluster is \"K\".\n",
    "- This is Unsupervised Machine Learning Algorithm."
   ]
  },
  {
   "cell_type": "markdown",
   "metadata": {},
   "source": [
    "![image](https://www.tutorialride.com/images/data-mining/k-mean-algorithm.jpg)"
   ]
  },
  {
   "cell_type": "markdown",
   "metadata": {},
   "source": [
    "<span style=\"color:purple;font-size: 24px\">How to determine the correct number of clusters or K value?</span>  🚀."
   ]
  },
  {
   "cell_type": "markdown",
   "metadata": {},
   "source": [
    "- Using Elbow Method\n",
    "- Gap Statistics\n",
    "- Silhouette Coefficient\n",
    "- Calinski-Harabasz Index\n",
    "- Davies-Bouldin Index\n",
    "- Dendogram\n",
    "- Bayesian information criterion(BCI)"
   ]
  },
  {
   "cell_type": "markdown",
   "metadata": {},
   "source": [
    "<span style=\"color:yellow;font-size: 24px\">ALGORITHM</span>  🚀."
   ]
  },
  {
   "cell_type": "markdown",
   "metadata": {},
   "source": [
    "1. Decide the k-value (k is the number of cluster or k is number of centroid) \n",
    "2. Randomly initialize the centroid \n",
    "3. Findout the distance to all the points and then make cluster\n",
    "4. Update the centriod\n",
    "5. Again you need to perform step 3 until we do not get the optimize cluster"
   ]
  },
  {
   "cell_type": "markdown",
   "metadata": {},
   "source": [
    "<span style=\"color:red;font-size: 24px\">DISTANCE USE</span>  🚀."
   ]
  },
  {
   "cell_type": "markdown",
   "metadata": {},
   "source": [
    "1. Euclidean Distance\n",
    "2. Manhattan Distance\n",
    "3. Minkowski Distance (categorical feature use)"
   ]
  },
  {
   "cell_type": "markdown",
   "metadata": {},
   "source": [
    "<span style=\"color:blue;font-size: 24px\">ELBOW METHOD</span>  🚀."
   ]
  },
  {
   "cell_type": "markdown",
   "metadata": {},
   "source": [
    "1. First of all,We will find distance between the center of the cluster(centroid) and remaining data points.Find their sum of squared distances or errors.This distances can be treated as deviations or errors.\n",
    "\n",
    "Sum of Squared Error (SSE) = first cluster\n",
    "\n",
    "SSE  = SSE1 + SSE2 + SSE3 +......+ SSEK\n",
    "\n",
    "2. Next step to plot a grah representing the relationship between K values and SSE values.\n"
   ]
  },
  {
   "cell_type": "markdown",
   "metadata": {},
   "source": [
    "- WCSS ( Within Cluster Sum of Square)\n",
    "1. Intra cluster distance(itself)\n",
    "2. Inter cluster distance(between)\n",
    "\n",
    "- Less distance - less WCSS - Solid cluster/compact cluster/strong cluster\n",
    "- More distance - more WCSS - Sparse cluster/weak cluster/weak cluster/complex cluster "
   ]
  },
  {
   "cell_type": "markdown",
   "metadata": {},
   "source": [
    "![image](https://www.researchgate.net/publication/344590665/figure/fig1/AS:945789706702848@1602505246144/Clustering-example-with-intra-and-inter-clustering-illustrations.png)"
   ]
  },
  {
   "cell_type": "markdown",
   "metadata": {},
   "source": [
    "![image](https://images.datacamp.com/image/upload/v1725630538/image_9c867e067e.png)"
   ]
  },
  {
   "cell_type": "markdown",
   "metadata": {},
   "source": [
    "<span style=\"color:green;font-size: 24px\">HOW TO VALIDATE CLUSTER</span>  🚀."
   ]
  },
  {
   "cell_type": "markdown",
   "metadata": {},
   "source": [
    "- For Regression - Validate - R2/Adjusted R2\n",
    "- For Classification - Validate - ROC-AUC/Confusion Matrix\n",
    "- Dunn Index\n",
    "- Silhoute Score"
   ]
  },
  {
   "cell_type": "markdown",
   "metadata": {},
   "source": [
    "![image](https://tyami.github.io/assets/images/post/ML/2020-10-30-clustering/2020-10-30-clustering-7-dunn-index.png)"
   ]
  },
  {
   "cell_type": "markdown",
   "metadata": {},
   "source": [
    "![iamge](https://slideplayer.com/slide/12897056/79/images/21/Cluster+Quality+For+a+clustering+with+K+clusters%3A+1%29+Dunn%E2%80%99s+index.jpg)"
   ]
  },
  {
   "cell_type": "markdown",
   "metadata": {},
   "source": [
    "![image](https://i.ytimg.com/vi/kPzWTSpYjo4/hq720.jpg?sqp=-oaymwEhCK4FEIIDSFryq4qpAxMIARUAAAAAGAElAADIQj0AgKJD&rs=AOn4CLC4H8aglqT2sPoMb5vDaZDLdx1bHg)"
   ]
  },
  {
   "cell_type": "markdown",
   "metadata": {},
   "source": [
    "<span style=\"color:yellow;font-size: 24px\">ADVANTAGES</span>  🚀."
   ]
  },
  {
   "cell_type": "markdown",
   "metadata": {},
   "source": [
    "1. Simplicity and Speed\n",
    "2. Scalability\n",
    "3. Ease of interpretations\n",
    "4. Convergence"
   ]
  },
  {
   "cell_type": "markdown",
   "metadata": {},
   "source": [
    "<span style=\"color:yellow;font-size: 24px\">DISADVANTAGES</span>  🚀."
   ]
  },
  {
   "cell_type": "markdown",
   "metadata": {},
   "source": [
    "1. Sensitivity to initial centroids\n",
    "2. Dependence on number of clusters(K)\n",
    "3. Impact of Outliers\n",
    "4. Not suitable for non-linear data\n",
    "5. Dosen't handle categorical data well"
   ]
  },
  {
   "cell_type": "markdown",
   "metadata": {},
   "source": [
    "<div style=\"text-align: center; color: blue; font-size: 24px; font-weight: bold;\">\n",
    "    K MEANS++ CLUSTERING\n",
    "</div>"
   ]
  },
  {
   "cell_type": "markdown",
   "metadata": {},
   "source": [
    "- K-Means++ is an improved initialization method of the K-Means clustering algorithm.\n",
    "- The initalization process in k-means++ works as follows:\n",
    "    - Select the first centroid randomly\n",
    "    - Calculate probabilities for choosing subsequent centroids\n",
    "    - Select subsequent centroids cre chosen\n",
    "    - Repeat until k centroids are chosen.\n",
    "-  Advantages:\n",
    "    - Reduces sensitivity to initial choice of centroids\n",
    "    - result in more robust and accurate clustering\n",
    "    - faster convergence\n",
    "- Disadvantages:\n",
    "    - Slightly increased computational cost due to probabilistic centroid selection.\n",
    "    - Sensitivity to outliers"
   ]
  },
  {
   "cell_type": "markdown",
   "metadata": {},
   "source": [
    "<span style=\"color:yellow;font-size: 24px\">APPLICATIONS</span>  🚀."
   ]
  },
  {
   "cell_type": "markdown",
   "metadata": {},
   "source": [
    "- Image Segmentation\n",
    "- Customer Segmentation\n",
    "- Anomaly Detection\n",
    "- Document Clustering"
   ]
  },
  {
   "cell_type": "markdown",
   "metadata": {},
   "source": [
    "- Time Complexity of kmeans = O(nkt) where, n = data points,k = no of cluster t = iterations"
   ]
  }
 ],
 "metadata": {
  "kernelspec": {
   "display_name": "ml_env",
   "language": "python",
   "name": "python3"
  },
  "language_info": {
   "name": "python",
   "version": "3.11.0"
  }
 },
 "nbformat": 4,
 "nbformat_minor": 2
}
