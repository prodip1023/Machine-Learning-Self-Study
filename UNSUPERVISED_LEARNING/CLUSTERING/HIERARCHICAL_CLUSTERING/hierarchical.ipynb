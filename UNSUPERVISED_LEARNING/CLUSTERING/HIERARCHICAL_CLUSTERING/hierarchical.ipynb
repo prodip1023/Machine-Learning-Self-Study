{
 "cells": [
  {
   "cell_type": "markdown",
   "metadata": {},
   "source": [
    "<div style=\"text-align: center; color: blue; font-size: 24px; font-weight: bold;\">\n",
    "   HIERARCHICAL CLUSTERING\n",
    "</div>"
   ]
  },
  {
   "cell_type": "markdown",
   "metadata": {},
   "source": [
    "- Hierarchical clustering is a method of cluster analysis which seeks to build a hierarchy of clusters.The hierarchy can be represented as a tree or dendogram.\n",
    "- In hierarchical clustering,data points are grouped together based on their similarity and these groups are then successively merged into larger cluster.\n",
    "- There are two types of hierarchical clustering :\n",
    "    1. Agglomerative hierarchical clustering\n",
    "    2. Divisive hierarchical clustering"
   ]
  },
  {
   "cell_type": "markdown",
   "metadata": {},
   "source": [
    "<span style=\"color:yellow;font-size: 24px\">Agglomerative Hierarchical Clustering</span>  🚀."
   ]
  },
  {
   "cell_type": "markdown",
   "metadata": {},
   "source": [
    "- Bottom-Up Approach: \n",
    "    - It starts with individual data points as seperate clusters and iteratively merges the most similar clusters until only one cluster remains.\n",
    "    - The algorithm proceeds by joining the two most similar clusters at each step until all the data points belong to a single cluster."
   ]
  },
  {
   "cell_type": "markdown",
   "metadata": {},
   "source": [
    "![image](https://media.geeksforgeeks.org/wp-content/uploads/20230227155417/download-(5).png)"
   ]
  },
  {
   "cell_type": "markdown",
   "metadata": {},
   "source": [
    "<span style=\"color:purple;font-size: 24px\">Divisive Hierarchical Clustering</span>  🚀."
   ]
  },
  {
   "cell_type": "markdown",
   "metadata": {},
   "source": [
    "- Top-Down Approach:\n",
    "    - It starts will all the data points in a single cluster and then recursively divides the cluster into smaller clusters until each data piint is in its own cluster.\n",
    "    - Divisive clustering can be computationally more expensive than agglomerative clustering."
   ]
  },
  {
   "cell_type": "markdown",
   "metadata": {},
   "source": [
    "![image](https://miro.medium.com/v2/resize:fit:1382/0*7doefcJeacdTpjgo)"
   ]
  },
  {
   "cell_type": "markdown",
   "metadata": {},
   "source": [
    "![image](https://miro.medium.com/v2/resize:fit:1298/1*8q47aniCkl21w9R4H0OCYQ.png)"
   ]
  },
  {
   "cell_type": "markdown",
   "metadata": {},
   "source": [
    "![image](https://ars.els-cdn.com/content/image/3-s2.0-B9780124157811000091-f09-04-9780124157811.jpg)"
   ]
  },
  {
   "cell_type": "markdown",
   "metadata": {},
   "source": [
    "# Common linkage methods used to measure the similarity between clusters include"
   ]
  },
  {
   "cell_type": "markdown",
   "metadata": {},
   "source": [
    "![iamge](https://dataaspirant.com/wp-content/uploads/2020/12/15-Hierarchical-Clustering-Linkages.png)"
   ]
  }
 ],
 "metadata": {
  "language_info": {
   "name": "python"
  }
 },
 "nbformat": 4,
 "nbformat_minor": 2
}
