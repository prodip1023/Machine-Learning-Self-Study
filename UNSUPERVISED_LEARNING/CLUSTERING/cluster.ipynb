{
 "cells": [
  {
   "cell_type": "markdown",
   "metadata": {},
   "source": [
    "<div style=\"text-align: center; color: blue; font-size: 24px; font-weight: bold;\">\n",
    "   CLUSTERING\n",
    "</div>"
   ]
  },
  {
   "cell_type": "markdown",
   "metadata": {},
   "source": [
    "- The task of grouping data points based on their similarity with each other is called Clustering or Cluster Analysis. This method is defined under the branch of Unsupervised Learning, which aims at gaining insights from unlabelled data points, that is, unlike supervised learning we don’t have a target variable. \n",
    "- Clustering aims at forming groups of homogeneous data points from a heterogeneous dataset. It evaluates the similarity based on a metric like Euclidean distance, Cosine similarity, Manhattan distance, etc. and then group the points with highest similarity score together."
   ]
  },
  {
   "cell_type": "markdown",
   "metadata": {},
   "source": [
    "![image](https://media.geeksforgeeks.org/wp-content/uploads/merge3cluster.jpg)"
   ]
  },
  {
   "cell_type": "markdown",
   "metadata": {},
   "source": [
    "<span style=\"color:yellow;font-size: 24px\">Types of Clustering</span>  🚀.\n"
   ]
  },
  {
   "cell_type": "markdown",
   "metadata": {},
   "source": [
    "- Hard Clustering: In this type of clustering, each data point belongs to a cluster completely or not. \n",
    "- Soft Clustering: In this type of clustering, instead of assigning each data point into a separate cluster, a probability or likelihood of that point being that cluster is evaluated."
   ]
  },
  {
   "cell_type": "markdown",
   "metadata": {},
   "source": [
    "<span style=\"color:blue;font-size: 24px\">Uses of Clustering\n",
    "</span>  🚀."
   ]
  },
  {
   "cell_type": "markdown",
   "metadata": {},
   "source": [
    "- Market Segmentation \n",
    "- Market Basket Analysis \n",
    "- Social Network Analysis\n",
    "- Medical Imaging\n",
    "- Anomaly Detection \n",
    "- Simplify working with large datasets"
   ]
  },
  {
   "cell_type": "markdown",
   "metadata": {},
   "source": [
    "<span style=\"color:red;font-size: 24px\">Types of Clustering Algorithms\n",
    "</span>  🚀.\n"
   ]
  },
  {
   "cell_type": "markdown",
   "metadata": {},
   "source": [
    "- Centroid-based Clustering (Partitioning methods)\n",
    "- Density-based Clustering (Model-based methods)\n",
    "- Connectivity-based Clustering (Hierarchical clustering)\n",
    "- Distribution-based Clustering"
   ]
  },
  {
   "cell_type": "markdown",
   "metadata": {},
   "source": [
    "<span style=\"color:purple;font-size: 24px\">Applications of Clustering in different fields</span>  🚀.\n"
   ]
  },
  {
   "cell_type": "markdown",
   "metadata": {},
   "source": [
    "\n",
    "- Marketing: It can be used to characterize & discover customer segments for marketing purposes.\n",
    "- Biology: It can be used for classification among different species of plants and animals.\n",
    "- Libraries: It is used in clustering different books on the basis of topics and information.\n",
    "- Insurance: It is used to acknowledge the customers, their policies and identifying the frauds.\n",
    "- City Planning: It is used to make groups of houses and to study their values based on their geographical locations and other factors present. \n",
    "- Earthquake studies: By learning the earthquake-affected areas we can determine the dangerous zones. \n",
    "- Image Processing: Clustering can be used to group similar images together, classify images based on content, and identify patterns in image data.\n",
    "- Genetics: Clustering is used to group genes that have similar expression patterns and identify gene networks that work together in biological processes.\n",
    "- Finance: Clustering is used to identify market segments based on customer behavior, identify patterns in stock market data, and analyze risk in investment portfolios.\n",
    "- Customer Service: Clustering is used to group customer inquiries and complaints into categories, identify common issues, and develop targeted solutions.\n",
    "- Manufacturing: Clustering is used to group similar products together, optimize production processes, and identify defects in manufacturing processes.\n",
    "- Medical diagnosis: Clustering is used to group patients with similar symptoms or diseases, which helps in making accurate diagnoses and identifying effective treatments.\n",
    "- Fraud detection: Clustering is used to identify suspicious patterns or anomalies in financial transactions, which can help in detecting fraud or other financial crimes.\n",
    "- Traffic analysis: Clustering is used to group similar patterns of traffic data, such as peak hours, routes, and speeds, which can help in improving transportation planning and infrastructure.\n",
    "- Social network analysis: Clustering is used to identify communities or groups within social networks, which can help in understanding social behavior, influence, and trends.\n",
    "- Cybersecurity: Clustering is used to group similar patterns of network traffic or system behavior, which can help in detecting and preventing cyberattacks.\n",
    "- Climate analysis: Clustering is used to group similar patterns of climate data, such as temperature, precipitation, and wind, which can help in understanding climate change and its impact on the environment.\n",
    "- Sports analysis: Clustering is used to group similar patterns of player or team performance data, which can help in analyzing player or team strengths and weaknesses and making strategic decisions.\n",
    "- Crime analysis: Clustering is used to group similar patterns of crime data, such as location, time, and type, which can help in identifying crime hotspots, predicting future crime trends, and improving crime prevention strategies."
   ]
  }
 ],
 "metadata": {
  "kernelspec": {
   "display_name": "ml_env",
   "language": "python",
   "name": "python3"
  },
  "language_info": {
   "name": "python",
   "version": "3.11.0"
  }
 },
 "nbformat": 4,
 "nbformat_minor": 2
}
