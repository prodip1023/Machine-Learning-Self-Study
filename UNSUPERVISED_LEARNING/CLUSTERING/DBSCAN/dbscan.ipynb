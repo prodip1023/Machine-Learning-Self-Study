{
 "cells": [
  {
   "cell_type": "markdown",
   "metadata": {},
   "source": [
    "<div style=\"text-align: center; color: blue; font-size: 24px; font-weight: bold;\">\n",
    "   DENSITY-BASED SPATIAL CLUSTERING OF APPLICATION WITH NOISE(DBSCAN)\n",
    "</div>"
   ]
  },
  {
   "cell_type": "markdown",
   "metadata": {},
   "source": [
    "- DBSCAN is a popular clustering algorithm used in Machine learning and data mining.\n",
    "- It is particularly effective for identifying clusters of points in a dataset based on the density of points in a feature space.\n",
    "- Findout the density:\n",
    "    - Epsilon distance\n",
    "    - Minimum number of point\n",
    "    - Core points\n",
    "    - Border points\n",
    "    - Noise points\n",
    "- Density(cluster or group)\n",
    "- Noise(outlier)"
   ]
  },
  {
   "cell_type": "markdown",
   "metadata": {},
   "source": [
    "![image](https://www.reneshbedre.com/assets/posts/dbscan/dbscan_terms_1.webp)"
   ]
  },
  {
   "cell_type": "markdown",
   "metadata": {},
   "source": [
    "<span style=\"color:yellow;font-size: 24px\">Epsilon distance</span>  🚀.\n"
   ]
  },
  {
   "cell_type": "markdown",
   "metadata": {},
   "source": [
    "- This is a parameter that defines the radius which to search for neighbouring points.It is a critical parameter as it defines the density of clusters.\n",
    "- Based on the data (Hyperparameter)"
   ]
  },
  {
   "cell_type": "markdown",
   "metadata": {},
   "source": [
    "<span style=\"color:red;font-size: 24px\">Minimum number of points</span>  🚀."
   ]
  },
  {
   "cell_type": "markdown",
   "metadata": {},
   "source": [
    "- This parameter specifies the minimum number of points within the epsilon neighbourhood of a point for it to be considerd a core point.\n",
    "- use Hyperparameter"
   ]
  },
  {
   "cell_type": "markdown",
   "metadata": {},
   "source": [
    "<span style=\"color:blue;font-size: 24px\">Core points</span>  🚀."
   ]
  },
  {
   "cell_type": "markdown",
   "metadata": {},
   "source": [
    "- A point is considered a core point if at least minpoints other points are within its epsilon neighbourhood.\n",
    "- Satisfying the minimum point condition"
   ]
  },
  {
   "cell_type": "markdown",
   "metadata": {},
   "source": [
    "<span style=\"color:purple;font-size: 24px\">Border points</span>  🚀."
   ]
  },
  {
   "cell_type": "markdown",
   "metadata": {},
   "source": [
    "- Border points are not core points themselves but are witin the epsilon neighbourhood of a core point.\n",
    "- not satisfying the condition but neighbour of the  core point."
   ]
  },
  {
   "cell_type": "markdown",
   "metadata": {},
   "source": [
    "<span style=\"color:white;font-size: 24px\">Noise points</span>  🚀."
   ]
  },
  {
   "cell_type": "markdown",
   "metadata": {},
   "source": [
    "- Points that are neither core points nor border points are considered as noise points.\n",
    "- Neither satisfying the condition nor a neighbour of core points."
   ]
  },
  {
   "cell_type": "markdown",
   "metadata": {},
   "source": [
    "<span style=\"color:yellow;font-size: 24px\">Applications</span>  🚀."
   ]
  },
  {
   "cell_type": "markdown",
   "metadata": {},
   "source": [
    "1. Spatial Data Analysis\n",
    "2. Image Segmentation\n",
    "3. Anomaly Detection"
   ]
  },
  {
   "cell_type": "markdown",
   "metadata": {},
   "source": [
    "<span style=\"color:red;font-size: 24px\">ADVANTAGES</span>  🚀."
   ]
  },
  {
   "cell_type": "markdown",
   "metadata": {},
   "source": [
    "1. Density based clustering\n",
    "2. Noise handling\n",
    "3. Handle unevenly sized clusters"
   ]
  },
  {
   "cell_type": "markdown",
   "metadata": {},
   "source": [
    "<span style=\"color:purple;font-size: 24px\">DISADVANTAGES</span>  🚀."
   ]
  },
  {
   "cell_type": "markdown",
   "metadata": {},
   "source": [
    "1. Sensitive to parameter selection\n",
    "2. Inefficient for large datasets or high dimension data\n",
    "3. Dificulty with varying density or shape"
   ]
  },
  {
   "cell_type": "markdown",
   "metadata": {},
   "source": [
    "![image](https://substackcdn.com/image/fetch/f_auto,q_auto:good,fl_progressive:steep/https%3A%2F%2Fsubstack-post-media.s3.amazonaws.com%2Fpublic%2Fimages%2F071b3ee2-5df1-4900-8539-a55d2ee18d8e_3221x2180.png)"
   ]
  }
 ],
 "metadata": {
  "language_info": {
   "name": "python"
  }
 },
 "nbformat": 4,
 "nbformat_minor": 2
}
