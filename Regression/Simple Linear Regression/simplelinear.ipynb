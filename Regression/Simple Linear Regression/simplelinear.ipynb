{
 "cells": [
  {
   "cell_type": "markdown",
   "metadata": {},
   "source": [
    "<div style=\"text-align: center; color: blue; font-size: 24px; font-weight: bold;\">\n",
    "    SIMPLE LINEAR REGRESSION\n",
    "</div>"
   ]
  },
  {
   "cell_type": "markdown",
   "metadata": {},
   "source": [
    "- The word \"Regression\" means measure of relation between variables or pieces of data.\n",
    "- A regression model such as Linear Regression or Ridge Regression tries to understand the relationship between different data.\n",
    "- There are 2 objectives of any regression model \n",
    "    1. To establish relationship between two variables:\n",
    "        * There are two types of relationship that exists between variables.When a variable increases,if another variable also increase then it is called \"Positive Relationship\".\n",
    "        * When a variable increases,if another one variable  decreases, then it is called \"Negative Relationship\".\n",
    "    2. Predict new observations: \n",
    "        * Once the regression model understands the relationship between the variables,it can predict new results."
   ]
  },
  {
   "cell_type": "markdown",
   "metadata": {},
   "source": [
    "<span style=\"color:yellow;font-size: 24px\">VARIABLES</span>  🚀."
   ]
  },
  {
   "cell_type": "markdown",
   "metadata": {},
   "source": [
    "- A variables is nothing but data.We know that a data frame contains data in the form of several rows and columns.Here are called variables.We can classify the variables into 2 types:\n",
    "  \n",
    "  1. Independent variable: This is the variable which is useful to calculate the value of another variable.Independent variables do not depend on each other.Independent variables are also called \"features\" or \"regressors\".In the mathematical equations,they are represented by the letter \"x\".\n",
    " \n",
    "  2. Dependent variable: This is the variable whose value is to forecast or predict.Its value is dependent on the values of other variables,so called dependent variables.Dependent variables are also called \"response variables\" or \"target variables\".In the mathematical equations,they are represented by the letter \"y\"."
   ]
  },
  {
   "cell_type": "markdown",
   "metadata": {},
   "source": [
    "<span style=\"color:orange;font-size: 24px\">LINEAR REGRESSION</span>  🚀.\n"
   ]
  },
  {
   "cell_type": "markdown",
   "metadata": {},
   "source": [
    "- Linear Regression is a Machine Learning Model that depends on the linear relationship between a dependent variable and one or more independent variables.\n",
    "- We can say two variables are in a linear relationship when their vvalues can be represented using a straight line.\n",
    "- When there is only one independent variable,it is called Simple Linear Regression.This is also called \"Least Squares Regression\".\n",
    "- More than one independent variables , the model is called Multiple Linear Regression."
   ]
  },
  {
   "cell_type": "markdown",
   "metadata": {},
   "source": [
    "<span style=\"color:purple;font-size: 24px\">LINEAR REGRESSION EQUATION</span>  🚀.\n"
   ]
  },
  {
   "cell_type": "markdown",
   "metadata": {},
   "source": [
    "y = mx + b\n",
    "\n",
    "Where,\n",
    "\n",
    "y - <span style=\"color:yellow\">dependent variable or target variable </span>\\\n",
    "x - <span style=\"color:yellow\">independent variable</span>  \n",
    "m - <span style=\"color:yellow\">slope</span>  \n",
    "b = <span style=\"color:yellow\">intercept or constant </span>\n"
   ]
  },
  {
   "cell_type": "markdown",
   "metadata": {},
   "source": [
    " - In Statistics,we write the same equation as:"
   ]
  },
  {
   "cell_type": "markdown",
   "metadata": {},
   "source": [
    "$$\n",
    "y = \\beta_0 + \\beta_1 x\n",
    "$$\n",
    "\n",
    "Where:\n",
    "\n",
    "- \\( y \\): Dependent variable (target)  \n",
    "- \\( x \\): Independent variable (input)  \n",
    "- \\( \\beta_0 \\): Intercept (constant)  \n",
    "- \\( \\beta_1 \\): Coefficient (slope)"
   ]
  },
  {
   "cell_type": "markdown",
   "metadata": {},
   "source": [
    "- For Graph use - https://www.desmos.com/calculator/"
   ]
  },
  {
   "cell_type": "markdown",
   "metadata": {},
   "source": [
    "- slope = deviation in y / deviation in x = dy/dx\n",
    "- intercept = distance on y axis where the line crosses."
   ]
  },
  {
   "cell_type": "markdown",
   "metadata": {},
   "source": [
    "![linear](https://cdn.analyticsvidhya.com/wp-content/uploads/2024/09/375512-1.webp)"
   ]
  },
  {
   "cell_type": "markdown",
   "metadata": {},
   "source": [
    "- It will show straight line .That means the relationship between the independent variable(x) and dependent variable(y) is linear."
   ]
  },
  {
   "cell_type": "markdown",
   "metadata": {},
   "source": [
    "<span style=\"color:yellow;font-size: 24px\">The r Squared Value</span>  🚀."
   ]
  },
  {
   "cell_type": "markdown",
   "metadata": {},
   "source": [
    "- After reading the data from the dataset,we can plot them in the form of graph.The data points may not be exactly on the straight line.There will be deviations from the straightline.This is called error \"E\".The linear regression should consider this error also.\n",
    "- Hence the formula will be :\n",
    "  \n",
    "$$\n",
    "y = \\beta_0 + \\beta_1 x + E\n",
    "$$"
   ]
  },
  {
   "cell_type": "markdown",
   "metadata": {},
   "source": [
    "$$\n",
    "R^2 = 1 - \\frac{\\sum (E_1^2)}{\\sum (E_2^2)}\n",
    "$$\n",
    "\n",
    "where, \\\n",
    "E1 = (y-y1)^2\\\n",
    "E2 = (y-mean of y)^2 \n",
    "\n",
    "Residual Error(E1) = original - predicted\n",
    "\n",
    "- r squared value is also called \"Coefficient of Determination\"\n",
    "- Accuracy in the model. \n",
    "- % of r2 = r2 * 100 \n",
    "- r2 range (0 to 1)"
   ]
  },
  {
   "cell_type": "markdown",
   "metadata": {},
   "source": [
    "- What happens when there are no deviations between y and y1. That means E1 value will be 0.Then E1^2 will also be 0.Then sum of squares of errors(sum1) will be 0.This indicates 100% accuracy for the model.So,the point is this in Linear Regression models,the sum of squares should have least value and that represennts high accuracy.This is the reason,'Simple Linear Regression' moodel is also called \"Least Squares Regression Model\"."
   ]
  },
  {
   "cell_type": "code",
   "execution_count": 10,
   "metadata": {},
   "outputs": [],
   "source": [
    "from sklearn.metrics import r2_score"
   ]
  },
  {
   "cell_type": "code",
   "execution_count": 4,
   "metadata": {},
   "outputs": [],
   "source": [
    "original = [1,2,3,4,5]\n",
    "predicted = [0.8,2.5,3,4.8,4.4]"
   ]
  },
  {
   "cell_type": "code",
   "execution_count": 9,
   "metadata": {},
   "outputs": [
    {
     "name": "stdout",
     "output_type": "stream",
     "text": [
      "Model accuracy is: 87.1\n",
      "Coefficient of Determination: 0.871\n"
     ]
    }
   ],
   "source": [
    "r_squared = r2_score(original,predicted)\n",
    "print(\"Model accuracy is:\",r_squared * 100)\n",
    "print(\"Coefficient of Determination:\",r_squared)"
   ]
  },
  {
   "cell_type": "markdown",
   "metadata": {},
   "source": [
    "<span style=\"color:yellow;font-size: 24px\">MATRICES USED FOR REGRESSION</span>  🚀."
   ]
  },
  {
   "cell_type": "markdown",
   "metadata": {},
   "source": [
    "- https://scikit-learn.org/stable/api/sklearn.metrics.html\n",
    "1. MSE -  MEAN SQUARED ERROR\n",
    "2. RMSE - ROOT MEAN SQUARED ERROR\n",
    "3. R SQUARED\n",
    "4. ADJUSTED R2 SQUARED\n",
    "5. MAE - MEAN ABSOLUTE ERROR\n",
    "6. MAPE - MEAN ABSOLUTE PERCENTAGE ERROR"
   ]
  },
  {
   "cell_type": "markdown",
   "metadata": {},
   "source": [
    "<span style=\"color:orange;font-size: 24px\">MEAN SQUARED ERROR</span>  🚀.\n"
   ]
  },
  {
   "cell_type": "markdown",
   "metadata": {},
   "source": [
    "![image](https://i0.wp.com/innovationyourself.com/wp-content/uploads/2023/09/image-7.png?resize=363%2C238&ssl=1)"
   ]
  },
  {
   "cell_type": "markdown",
   "metadata": {},
   "source": [
    "<span style=\"color:yellow\">Advantage </span>\n",
    " - Equation is differntiable\n",
    " - It has only one local or global minima\n",
    "  \n",
    " <span style=\"color:yellow\">Disadvantage </span>\n",
    " - Not robust to outliers.\n",
    " - The error is not in the same unit\n"
   ]
  },
  {
   "cell_type": "code",
   "execution_count": 15,
   "metadata": {},
   "outputs": [
    {
     "name": "stdout",
     "output_type": "stream",
     "text": [
      "Mean Squared Error: 0.2579999999999999\n"
     ]
    }
   ],
   "source": [
    "from sklearn.metrics import mean_squared_error\n",
    "mse = mean_squared_error(original, predicted)\n",
    "print(\"Mean Squared Error:\",mse)"
   ]
  },
  {
   "cell_type": "markdown",
   "metadata": {},
   "source": [
    "<span style=\"color:yellow;font-size: 24px\">ROOT MEAN SQUARED ERROR</span>  🚀."
   ]
  },
  {
   "cell_type": "markdown",
   "metadata": {},
   "source": [
    "![rmse](https://mblogthumb-phinf.pstatic.net/MjAxOTAxMTZfMTQ3/MDAxNTQ3NjI0MjQ5MTA5.EhysWzHVLa9IHHZxuydl_9wHZhcCdY8e8v7QFMpuQacg.tRgYwqxKWHc9BzWyhDsoHVsnpx1wdPf7RJMj9pqEe-cg.PNG.doublet7411/image.png?type=w800)"
   ]
  },
  {
   "cell_type": "markdown",
   "metadata": {},
   "source": [
    "<span style=\"color:orange\">Advantage </span>\n",
    " - Sensitive to large errors\n",
    " - Same units as the dependent variable\n",
    "  \n",
    " <span style=\"color:orange\">Disadvantage </span>\n",
    " - Emphasis on outliers.\n",
    " - Sensitivity to skewed distribution"
   ]
  },
  {
   "cell_type": "code",
   "execution_count": 17,
   "metadata": {},
   "outputs": [
    {
     "name": "stdout",
     "output_type": "stream",
     "text": [
      "Root Mean Squared Error: 0.5079370039680117\n"
     ]
    }
   ],
   "source": [
    "from sklearn.metrics import root_mean_squared_error\n",
    "rmse = root_mean_squared_error(original, predicted)\n",
    "print(\"Root Mean Squared Error:\",rmse)"
   ]
  },
  {
   "cell_type": "markdown",
   "metadata": {},
   "source": [
    "<span style=\"color:blue;font-size: 24px\">R SQUARED</span>  🚀."
   ]
  },
  {
   "cell_type": "markdown",
   "metadata": {},
   "source": [
    "![r2](https://miro.medium.com/v2/resize:fit:1400/1*_HbrAW-tMRBli6ASD5Bttw.png)"
   ]
  },
  {
   "cell_type": "markdown",
   "metadata": {},
   "source": [
    "<span style=\"color:yellow\">Advantage </span>\n",
    " - Normalized Metric\n",
    " - Useful for Linear Models\n",
    "  \n",
    " <span style=\"color:yellow\">Disadvantage </span>\n",
    " - Does Not Account for Overfitting\n",
    " - Not Suitable for Non-linear Models\n",
    " - Sensitive to Outliers"
   ]
  },
  {
   "cell_type": "code",
   "execution_count": 18,
   "metadata": {},
   "outputs": [
    {
     "name": "stdout",
     "output_type": "stream",
     "text": [
      "Model accuracy is: 87.1\n",
      "Coefficient of Determination: 0.871\n"
     ]
    }
   ],
   "source": [
    "r_squared = r2_score(original,predicted)\n",
    "print(\"Model accuracy is:\",r_squared * 100)\n",
    "print(\"Coefficient of Determination:\",r_squared)"
   ]
  },
  {
   "cell_type": "markdown",
   "metadata": {},
   "source": [
    "<span style=\"color:orange;font-size: 24px\">ADJUSTED R SQUARED</span>  🚀."
   ]
  },
  {
   "cell_type": "markdown",
   "metadata": {},
   "source": [
    "![adj2](https://miro.medium.com/v2/resize:fit:1024/1*kW2xSxbIb7laGRoEcgx8vg.jpeg)"
   ]
  },
  {
   "cell_type": "markdown",
   "metadata": {},
   "source": [
    "<span style=\"color:yellow\">Advantage </span>\n",
    " - Prevents Overfitting\n",
    " - Works with Multiple Regression\n",
    "  \n",
    " <span style=\"color:yellow\">Disadvantage </span>\n",
    " - Still Sensitive to Outliers\n",
    " - Does Not Handle Non-Linear Relationships Well\n",
    " - Only for Linear Models"
   ]
  },
  {
   "cell_type": "code",
   "execution_count": 21,
   "metadata": {},
   "outputs": [
    {
     "name": "stdout",
     "output_type": "stream",
     "text": [
      "R-squared: 0.871\n",
      "Adjusted R-squared: 0.828\n"
     ]
    }
   ],
   "source": [
    "from sklearn.metrics import r2_score\n",
    "\n",
    "def adjusted_r2(r2, n, p):\n",
    "    \"\"\"\n",
    "    Calculate Adjusted R-squared.\n",
    "    \n",
    "    Parameters:\n",
    "    - r2: R-squared value.\n",
    "    - n: Number of data points (observations).\n",
    "    - p: Number of independent variables (predictors).\n",
    "    \n",
    "    Returns:\n",
    "    - Adjusted R-squared value.\n",
    "    \"\"\"\n",
    "    return 1 - ((1 - r2) * (n - 1)) / (n - p - 1)\n",
    "\n",
    "# Example usage\n",
    "# Sample data\n",
    "y_true = original\n",
    "y_pred = predicted\n",
    "\n",
    "# Calculate R-squared\n",
    "r2 = r2_score(y_true, y_pred)\n",
    "\n",
    "# Number of observations and predictors\n",
    "n = len(y_true)  # number of data points\n",
    "p = 1  # number of predictors (for simple linear regression)\n",
    "\n",
    "# Calculate Adjusted R-squared\n",
    "adj_r2 = adjusted_r2(r2, n, p)\n",
    "\n",
    "print(f\"R-squared: {r2}\")\n",
    "print(f\"Adjusted R-squared: {adj_r2}\")"
   ]
  },
  {
   "cell_type": "markdown",
   "metadata": {},
   "source": [
    "<span style=\"color:blue;font-size: 24px\">MEAN ABSOLUTE PERCENTAGE ERROR(MAPE)\n",
    "</span>  🚀."
   ]
  },
  {
   "cell_type": "markdown",
   "metadata": {},
   "source": [
    "![mape](https://miro.medium.com/v2/resize:fit:1400/1*b1nwcFArdmz9WZv5hzMoSw.png)"
   ]
  },
  {
   "cell_type": "markdown",
   "metadata": {},
   "source": [
    "<span style=\"color:yellow\">Advantage </span>\n",
    " - Scale-Independent\n",
    " - Easy to Interpret\n",
    "  \n",
    " <span style=\"color:yellow\">Disadvantage </span>\n",
    " - Sensitivity to Outliers\n",
    " - Undefined for Zero Values"
   ]
  },
  {
   "cell_type": "code",
   "execution_count": 22,
   "metadata": {},
   "outputs": [
    {
     "name": "stdout",
     "output_type": "stream",
     "text": [
      "Mean Absolute Percentage Error: 0.15399999999999997\n"
     ]
    }
   ],
   "source": [
    "from sklearn.metrics import mean_absolute_percentage_error\n",
    "mape = mean_absolute_percentage_error(original, predicted)\n",
    "print(\"Mean Absolute Percentage Error:\", mape)"
   ]
  },
  {
   "cell_type": "code",
   "execution_count": null,
   "metadata": {},
   "outputs": [],
   "source": []
  }
 ],
 "metadata": {
  "kernelspec": {
   "display_name": "ml_env",
   "language": "python",
   "name": "python3"
  },
  "language_info": {
   "codemirror_mode": {
    "name": "ipython",
    "version": 3
   },
   "file_extension": ".py",
   "mimetype": "text/x-python",
   "name": "python",
   "nbconvert_exporter": "python",
   "pygments_lexer": "ipython3",
   "version": "3.11.0"
  }
 },
 "nbformat": 4,
 "nbformat_minor": 2
}
