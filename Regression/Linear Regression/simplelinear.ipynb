{
 "cells": [
  {
   "cell_type": "markdown",
   "metadata": {},
   "source": [
    "<div style=\"text-align: center; color: blue; font-size: 24px; font-weight: bold;\">\n",
    "    SIMPLE LINEAR REGRESSION\n",
    "</div>"
   ]
  },
  {
   "cell_type": "markdown",
   "metadata": {},
   "source": [
    "- The word \"Regression\" means measure of relation between variables or pieces of data.\n",
    "- A regression model such as Linear Regression or Ridge Regression tries to understand the relationship between different data.\n",
    "- There are 2 objectives of any regression model \n",
    "    1. To establish relationship between two variables:\n",
    "        * There are two types of relationship that exists between variables.When a variable increases,if another variable also increase then it is called \"Positive Relationship\".\n",
    "        * When a variable increases,if another one variable  decreases, then it is called \"Negative Relationship\".\n",
    "    2. Predict new observations: \n",
    "        * Once the regression model understands the relationship between the variables,it can predict new results."
   ]
  },
  {
   "cell_type": "markdown",
   "metadata": {},
   "source": []
  }
 ],
 "metadata": {
  "kernelspec": {
   "display_name": "ml_env",
   "language": "python",
   "name": "python3"
  },
  "language_info": {
   "name": "python",
   "version": "3.11.0"
  }
 },
 "nbformat": 4,
 "nbformat_minor": 2
}
