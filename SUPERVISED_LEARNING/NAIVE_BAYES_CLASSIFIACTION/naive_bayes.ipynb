{
 "cells": [
  {
   "cell_type": "markdown",
   "metadata": {},
   "source": [
    "<div style=\"text-align: center; color: blue; font-size: 24px; font-weight: bold;\">\n",
    "    NAIVE BAYES CLASSIFIACTION\n",
    "</div>"
   ]
  },
  {
   "cell_type": "markdown",
   "metadata": {},
   "source": [
    "- Every Machine Learning Model internally uses an algorithm (or logic) to analyze and understand the given data set.\n",
    "- Similar to Logistic Regression or SVM that classify the data into several classes or groups,we have another classifier called \"Naive Bayes Classification Model\".This Model is useful to classify the given data and finally provides \"YES\" or \"NO\" type of output.\n",
    "- Depending on the given input data (or independent features),this model calculates how much probability is there for \"YES\" and how much for \"NO\".When \"YES\" has more probability ,it gives as output ,otherwise it gives \"NO\".\n",
    "- Naive Bayes Model works based on Bayes Theorem along with Naive assumption."
   ]
  },
  {
   "cell_type": "markdown",
   "metadata": {},
   "source": [
    "<span style=\"color:yellow;font-size: 24px\">BAYES THEOREM</span>  🚀."
   ]
  },
  {
   "cell_type": "markdown",
   "metadata": {},
   "source": [
    "![image](https://media.geeksforgeeks.org/wp-content/uploads/20240619133458/Bayes-Theorem-for-Conditional-Probability.png)"
   ]
  },
  {
   "cell_type": "markdown",
   "metadata": {},
   "source": [
    "- Bayes theroem finds the probability of an event occuring given the probability of another event that has already occured.\n",
    "- Where A and B are events and P(B) is not equal to 0.\n",
    "- Probability of A given B already occured = Probability of A  * Probability B given A already occured divided by Probability of B\n",
    "- B is termed \"Evidence\""
   ]
  },
  {
   "cell_type": "markdown",
   "metadata": {},
   "source": [
    "- When any two events A and B are independent ,then\\\n",
    "P(A and B) = P(A) P(B)\n",
    "- Probability  = No of expected events / Total no of events\n",
    "- Total Probability  = 1. This is also taken as 100%.\n",
    "-  x + y = 1 then proportion of x = x/x+y and proportion of y = y/x+y\n",
    "-  https://www.saedsayad.com/naive_bayesian.htm"
   ]
  },
  {
   "cell_type": "markdown",
   "metadata": {},
   "source": [
    "![image](https://i.ytimg.com/vi/u0W79OYroOI/maxresdefault.jpg)"
   ]
  },
  {
   "cell_type": "markdown",
   "metadata": {},
   "source": [
    "![image](https://i0.wp.com/vinodsblog.com/wp-content/uploads/2024/04/Screenshot-2024-04-03-at-16.49.12.png?resize=640%2C313&ssl=1)"
   ]
  },
  {
   "cell_type": "markdown",
   "metadata": {},
   "source": [
    "![image](https://i.sstatic.net/1XQpr.png)"
   ]
  },
  {
   "cell_type": "markdown",
   "metadata": {},
   "source": [
    "![image](https://miro.medium.com/v2/resize:fit:978/1*d9M5_ctu3gN3G4sJLAam5w.png)"
   ]
  },
  {
   "cell_type": "markdown",
   "metadata": {},
   "source": [
    "![image](https://i.pinimg.com/736x/54/b0/61/54b061b20d06da839fcbf1cc65aa11f4.jpg)"
   ]
  },
  {
   "cell_type": "markdown",
   "metadata": {},
   "source": [
    "<span style=\"color:blue;font-size: 24px\">TYPES OF NAIVE BAYES MODEL</span>  🚀."
   ]
  },
  {
   "cell_type": "markdown",
   "metadata": {},
   "source": [
    "- Dependeing on how the data is distributed ,the Naive Bayes Model will differ .There are 2 types of Naive Bayes Classifiers \n",
    " 1. Gaussian Naive Bayes Classifier\n",
    " 2. Multinomial Naive Bayes Classifier"
   ]
  },
  {
   "cell_type": "markdown",
   "metadata": {},
   "source": [
    "<span style=\"color:orange;font-size: 24px\">Gaussian Naive Bayes Classifier</span>  🚀."
   ]
  },
  {
   "cell_type": "markdown",
   "metadata": {},
   "source": [
    "- In Gaussian Naive Bayes,continuous values associated with each features are assumed to be distributed according to a Gaussian distributed.A Gaussian distributed is also called Normal Distribution.When plotted it gives a bell-shaped curve.\n",
    " ![image](https://dphi.tech/blog/wp-content/uploads/2021/04/Screenshot-2021-04-01-160835.jpg)"
   ]
  },
  {
   "cell_type": "markdown",
   "metadata": {},
   "source": [
    "<span style=\"color:green;font-size: 24px\">Multinomial Naive Bayes Classifier</span>  🚀."
   ]
  },
  {
   "cell_type": "markdown",
   "metadata": {},
   "source": [
    "- Sometimes,we do not have continuous values.We will have some text and there may be certain words repeated.\n",
    "- That means the frequencies of certain words may be high.Based on such frequencies,we are supposed to classify the document(or text).\n",
    "- In these case we need \"Multnomial Naive Bayes Classifier\".The term \"Multinomial\" means several words."
   ]
  },
  {
   "cell_type": "markdown",
   "metadata": {},
   "source": [
    "<span style=\"color:purple;font-size: 24px\">ADVANTAGES</span>  🚀."
   ]
  },
  {
   "cell_type": "markdown",
   "metadata": {},
   "source": [
    "1. Simple and Fast\n",
    "2. Low training data requirement\n",
    "3. Handles high dimensional data\n",
    "4. Good for text classification\n",
    "5. Efficient with categorical data"
   ]
  },
  {
   "cell_type": "markdown",
   "metadata": {},
   "source": [
    "<span style=\"color:white;font-size: 24px\">DISADVANTAGES</span>  🚀."
   ]
  },
  {
   "cell_type": "markdown",
   "metadata": {},
   "source": [
    "1. Assumption of independent\n",
    "2. Sensitivity to irrelavant features\n",
    "3. Limited expressiveness\n",
    "4. Estimation of zero probabilities\n",
    "5. Continuous features assumption"
   ]
  },
  {
   "cell_type": "markdown",
   "metadata": {},
   "source": [
    "<span style=\"color:yellow;font-size: 24px\">APPLICATIONS</span>  🚀."
   ]
  },
  {
   "cell_type": "markdown",
   "metadata": {},
   "source": [
    "1. Spam Filtering\n",
    "2. Sentiment Analysis\n",
    "3. Fraud Detection\n",
    "4. Document Categorization\n",
    "5. Medical diagnosis"
   ]
  },
  {
   "cell_type": "code",
   "execution_count": null,
   "metadata": {},
   "outputs": [],
   "source": []
  }
 ],
 "metadata": {
  "language_info": {
   "name": "python"
  }
 },
 "nbformat": 4,
 "nbformat_minor": 2
}
