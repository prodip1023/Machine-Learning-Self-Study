{
 "cells": [
  {
   "cell_type": "markdown",
   "metadata": {},
   "source": [
    "<div style=\"text-align: center; color: yellow; font-size: 24px; font-weight: bold;\">\n",
    "    ADABOOST\n",
    "</div>"
   ]
  },
  {
   "cell_type": "markdown",
   "metadata": {},
   "source": [
    "- AdaBoost (Adaptive Boosting) is a popular ensemble learning algorithm designed to improved the performance of weak learners.\n",
    "- AdaBoost sequentially trains a series of weak learners,assigning different weights to training instances based on their classificaton accuracy.\n",
    "- final_result = alpha(M1) +  alpha(M2) +  alpha(M3) ------------- +  alpha(MN)\n",
    "- M1.M2,M3 ..... MN - Decision Trees stumps \n",
    "- alpha - weights\n",
    "- stumps means depth of the decision tree is 1"
   ]
  },
  {
   "cell_type": "markdown",
   "metadata": {},
   "source": [
    "![image](https://miro.medium.com/v2/resize:fit:1400/1*X4Qb5b5fRWlJO3Zt5x6jYQ.png)"
   ]
  },
  {
   "cell_type": "markdown",
   "metadata": {},
   "source": [
    "<span style=\"color:green;font-size: 24px\">STEP WISE BUILD ADABOOST</span>  🚀."
   ]
  },
  {
   "cell_type": "markdown",
   "metadata": {},
   "source": [
    "![image](https://i.ytimg.com/vi/wbmuqXbUFGM/hq720.jpg?sqp=-oaymwEhCK4FEIIDSFryq4qpAxMIARUAAAAAGAElAADIQj0AgKJD&rs=AOn4CLBPPosAjy5Ixjc53gCTFzNKqaAmrQ)"
   ]
  },
  {
   "cell_type": "markdown",
   "metadata": {},
   "source": [
    "1. Create Decision Tree stump \n",
    "2. Sum of the total errors and performance of the stump\n",
    "\n",
    "![image](https://doimages.nyc3.cdn.digitaloceanspaces.com/010AI-ML/content/images/2019/11/image-52.png)"
   ]
  },
  {
   "cell_type": "markdown",
   "metadata": {},
   "source": [
    "3. Update the weights of incorrect and correct classified points \n",
    "\n",
    "![image](https://cdn.analyticsvidhya.com/wp-content/uploads/2024/10/766047.webp) "
   ]
  },
  {
   "cell_type": "markdown",
   "metadata": {},
   "source": [
    "- The amount of, say (alpha) will be negative when the sample is correctly classified.\n",
    "- The amount of, say (alpha) will be positive when the sample is miss-classified."
   ]
  },
  {
   "cell_type": "markdown",
   "metadata": {},
   "source": [
    "4. Normalized weights computation and assigning bins(bucket)\n",
    "   * I will more focus on those data pints which was the miss classified (more weights)  "
   ]
  },
  {
   "cell_type": "markdown",
   "metadata": {},
   "source": [
    "5. Select data points to send next stump \n",
    "   * Iterative process selecting random value between 0 to 1  \n",
    "   * select row = [0.1,0.4,0.7,0.05,0.8,0.3,0.2] - this data send to next Decision Tree Stump\n",
    "6. Repeat from 1 to 2 steps in this data for finding alpha2.\n",
    "7. Repeat from 3 to 5 steps for next Decision Tree Stump "
   ]
  },
  {
   "cell_type": "markdown",
   "metadata": {},
   "source": [
    "<span style=\"color:blue;font-size: 24px\">ADVANTAGES</span>  🚀."
   ]
  },
  {
   "cell_type": "markdown",
   "metadata": {},
   "source": [
    "1. High accuracy\n",
    "2. Less prone to overfitting\n",
    "3. Handles noisy data(outliers)"
   ]
  },
  {
   "cell_type": "markdown",
   "metadata": {},
   "source": [
    "<span style=\"color:green;font-size: 24px\">DISADVANTAGES</span>  🚀."
   ]
  },
  {
   "cell_type": "markdown",
   "metadata": {},
   "source": [
    "1. Computationally intensive\n",
    "2. Not well suited for complex models\n",
    "3. Requires sufficient data"
   ]
  },
  {
   "cell_type": "markdown",
   "metadata": {},
   "source": [
    "REF:\n",
    "* https://www.analyticsvidhya.com/blog/2021/09/adaboost-algorithm-a-complete-guide-for-beginners/\n",
    "* https://www.analyticsvidhya.com/blog/2021/03/introduction-to-adaboost-algorithm-with-python/"
   ]
  }
 ],
 "metadata": {
  "kernelspec": {
   "display_name": "ml_env",
   "language": "python",
   "name": "python3"
  },
  "language_info": {
   "name": "python",
   "version": "3.11.0"
  }
 },
 "nbformat": 4,
 "nbformat_minor": 2
}
