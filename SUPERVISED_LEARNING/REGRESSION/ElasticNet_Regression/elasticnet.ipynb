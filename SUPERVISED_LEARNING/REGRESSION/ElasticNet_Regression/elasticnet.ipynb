{
 "cells": [
  {
   "cell_type": "markdown",
   "metadata": {},
   "source": [
    "<div style=\"text-align: center; color: yellow; font-size: 24px; font-weight: bold;\">\n",
    "    ELASTIC REGRESSION MODEL\n",
    "</div>"
   ]
  },
  {
   "cell_type": "markdown",
   "metadata": {},
   "source": [
    "- ElasticNet Regression is used when large number of parameters(or columns) are there with large volume of data.\n",
    "- In such a case,there would be chances of more useless data to make any prediction.\n",
    "- ElasticNet Regression is a combination of Ridge and Lasso Regression.\n",
    "-  It is used to reduce the dimensionality of the data and to prevent overfitting.\n",
    "- ElasticNet Regression equation is:\n",
    "    y = m1x1 + m2x2 + m3x3 + ....+ b + sum of squared residuals + lambda * (slope)**2 + lambda * |slope| \n",
    "- equation of line + the sum of squared residuals + lambda1 * |slope| + lambda2 * (slope)**2\n",
    "- lambda1 maens Lasso\n",
    "- lambda2 means Ridge"
   ]
  },
  {
   "cell_type": "markdown",
   "metadata": {},
   "source": [
    "- When lambda1 is 0 ,the equation represents Ridge Regression.\n",
    "- When lambda2 is 0 ,the equation represents Lasso Regression.\n",
    "- When lambda1 and lambda2 are greater than 0 , it will become Elastic Net Regression.\n",
    "- range 0 to 1.\n",
    "- Both Lasso and Elastic Net Regressions are useful in 'feature selection'."
   ]
  },
  {
   "cell_type": "markdown",
   "metadata": {},
   "source": [
    "- When Lasso Regression is used ,it will go through all the columns in the dataset and finally use only one column that bears highest influence on the output.\n",
    "- When Elastic Net Regression is used,it will internally use a loop through all columns and determine the output.It understands which column is influencing the output more,but it will not use that column alone in determining the output.It will use all the columns to determine the output and hence it is more accurate than the Lasso Regression model."
   ]
  },
  {
   "cell_type": "markdown",
   "metadata": {},
   "source": []
  }
 ],
 "metadata": {
  "kernelspec": {
   "display_name": "ml_env",
   "language": "python",
   "name": "python3"
  },
  "language_info": {
   "name": "python",
   "version": "3.11.0"
  }
 },
 "nbformat": 4,
 "nbformat_minor": 2
}
