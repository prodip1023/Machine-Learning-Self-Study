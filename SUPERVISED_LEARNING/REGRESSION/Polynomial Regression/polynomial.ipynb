{
 "cells": [
  {
   "cell_type": "markdown",
   "metadata": {},
   "source": [
    "<div style=\"text-align: center; color: yellow; font-size: 24px; font-weight: bold;\">\n",
    "    POLYNOMIAL LINEAR REGRESSION\n",
    "</div>"
   ]
  },
  {
   "cell_type": "markdown",
   "metadata": {},
   "source": [
    "- Simple Linear Regression and Multiple Linear Regression models can be used only when the data points are in straight line.\n",
    "- But we can not always except the data points to be in straight line.Sometimes,they may form a curved line.In such cases,Simple Linear Regression and  Multiple Linear Regression models can not be used.\n",
    "- We have to go for Polynomial Linear Regression.\n",
    "- Polynomial Linear Regression is a refinement for Simple Linear Regression to fit the data points that are in curved shape rather than in a straight line shape.\n",
    "- That means it is used on non-linear data.\n",
    "- Polynomial Linear Regression is a special case of Multiple Linear Regression."
   ]
  },
  {
   "cell_type": "markdown",
   "metadata": {},
   "source": [
    "The formula for simple linear regression is:\n",
    "\n",
    "y = mx + b\n",
    "\n",
    "The formula for multiple linear regression is:\n",
    "\n",
    "y = m1x1 + m2x2 + m3x3 + ..........mnxxn+ b\n",
    "\n",
    "The formula for polynomial linear regression is:\n",
    "\n",
    "y = m1x1^1 + m2x2^2 + m3x3^3 + ..........mnxxn^n+ b\n",
    "\n"
   ]
  },
  {
   "cell_type": "markdown",
   "metadata": {},
   "source": [
    "![image](https://dataaspirant.com/wp-content/uploads/2023/03/4-10.png)"
   ]
  },
  {
   "cell_type": "markdown",
   "metadata": {},
   "source": [
    "- The first term has power 1 , the second term has power 2 and the third has power 3 and so on.The last term or nth term will have power n.These terms used in the formula is called 'Polynomials' and their power value is called 'degree'.More degree more accuracy.\n",
    "- independent variables x1,x2,....\n",
    "- coefficient m1,m2,....\n",
    "- intercept is b"
   ]
  },
  {
   "cell_type": "markdown",
   "metadata": {},
   "source": [
    "- The power of x is called 'degree'.Selecting the 'degree' value wisely will give us more accuracy.\n",
    "- Suppose,we take degree value to be 2 .So formula is ..\n",
    "- y = m1x1^1 + b (For degree 1)\n",
    "- y = m1x1^1 + m2x2^2 + b (For degree 2)\n",
    "- y = m1x1^1 + m2x2^2 + m3xx3^3 + b (For degree 3)"
   ]
  },
  {
   "cell_type": "markdown",
   "metadata": {},
   "source": [
    "- At the same time ,when more tems are used ,the formula will become more critical and takes more processing time.Hence our Machine Learning model will become slow."
   ]
  },
  {
   "cell_type": "markdown",
   "metadata": {},
   "source": [
    "![image](https://miro.medium.com/v2/resize:fit:1400/0*DJFUG5EZmO8KldGR.png)"
   ]
  },
  {
   "cell_type": "markdown",
   "metadata": {},
   "source": []
  }
 ],
 "metadata": {
  "kernelspec": {
   "display_name": "ml_env",
   "language": "python",
   "name": "python3"
  },
  "language_info": {
   "name": "python",
   "version": "3.11.0"
  }
 },
 "nbformat": 4,
 "nbformat_minor": 2
}
