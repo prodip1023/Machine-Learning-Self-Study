{
 "cells": [
  {
   "cell_type": "markdown",
   "metadata": {},
   "source": [
    "<div style=\"text-align: center; color: blue; font-size: 24px; font-weight: bold;\">\n",
    "    SUPPORT VECTOR MACHINE\n",
    "</div>"
   ]
  },
  {
   "cell_type": "markdown",
   "metadata": {},
   "source": [
    "- This is similar to Logistic Regression but works better in some situations.\n",
    "- Support Vector Machines (SVM) is a supervised machine learning algorithm which can be used for both classification or regression challenges.\n",
    "\n",
    "\n",
    "![image](https://ars.els-cdn.com/content/image/3-s2.0-B978032385117600011X-f12-07-9780323851176.jpg)\n",
    "\n"
   ]
  },
  {
   "cell_type": "markdown",
   "metadata": {},
   "source": [
    "- we are given two classes of the data points.If we are asked to divide these data points by drawing a straight line,we can draw several straight line like red,blue and orange line.\n",
    "- If we are aksed which line is dividing these data points in the best possible way - we can easily say that it is blue line.But why? because the line \"Blue\" is splitting the data such that the distance between the two groups is maximum.Thus,it is keeping the data points at a maximum distance apart.\n",
    "So, \"Blue\" line is called \"Hyper plane\".\n",
    "- We can understand that some data points will be much more closer to hyper plane line.Such data points on either side of this line are called \"Support Vectors\".\n",
    "- While making predictions,there arises difficulty regarding classification of these support vectors.Since these points are closer to hyper plane ,especially when they are on the hyper plane,the model cannot decided into which class they should be put.\n",
    "- SVM is a Machine Learning model that works in the principle of hyper plane. It draws a hyper plane and dicided the data points into different classes.So,SVM is a Classification technique.\n",
    "- Support Vector Regression (SVR) - concept of an epsilon-intensive tube."
   ]
  },
  {
   "cell_type": "markdown",
   "metadata": {},
   "source": [
    "- SVM can be used in binary classification and multiclass classification."
   ]
  },
  {
   "cell_type": "markdown",
   "metadata": {},
   "source": [
    "![image](./images/03_09.png)"
   ]
  },
  {
   "cell_type": "markdown",
   "metadata": {},
   "source": [
    "<span style=\"color:yellow;font-size: 24px\">KERNEL FUNCTION</span>  🚀."
   ]
  },
  {
   "cell_type": "markdown",
   "metadata": {},
   "source": [
    "- Sometimes,the data points will be such that it may not possible to divide them using straight line.In such casec,we may heve to use a curved line.This is called \"Kernel\" function that is done by svm.\n",
    "- To use curved line , required mathematical function will be used by SVM and transform the data to fit by the curved line.That mathmatical function is called \"Kernel Function\".\n",
    "- Transform to 3D\n",
    "\n",
    "![image](https://miro.medium.com/v2/resize:fit:1400/1*mCwnu5kXot6buL7jeIafqQ.png) "
   ]
  },
  {
   "cell_type": "markdown",
   "metadata": {},
   "source": [
    "- There are various karnel function which transform the data so that it can be divided properly by the SVM.\n",
    "1. Linear kernel function\n",
    "2. Polynomial kernel function\n",
    "3. Radial Basis kernel function (RBF)\n",
    "4. Sigmoid kernel function \n",
    "- Different types of kernel functions are use for different mathematical formulae to divided the data points."
   ]
  },
  {
   "cell_type": "markdown",
   "metadata": {},
   "source": [
    "https://scikit-learn.org/dev/modules/generated/sklearn.svm.SVC.html"
   ]
  },
  {
   "cell_type": "markdown",
   "metadata": {},
   "source": [
    "<span style=\"color:white;font-size: 24px\">PARAMETERS IN SVM</span>  🚀."
   ]
  },
  {
   "cell_type": "code",
   "execution_count": 2,
   "metadata": {},
   "outputs": [],
   "source": [
    "from sklearn.svm import SVC,SVR\n",
    "svc = SVC() # for classification\n",
    "svr = SVR() # for regression"
   ]
  },
  {
   "cell_type": "markdown",
   "metadata": {},
   "source": [
    "1. Gamma parameter: 'gamma' value indicates whether the points close to the hyper plane should be considered to classify a datapoint or not.When gamma value is low,points far from the hyper plane are also included in decision making.When gamma value is high ,points close to the hyper plane are included.\n",
    "    * Gamma can be \"auto\" or \"scale\"\n",
    "    * When gamma is \"auto\" -> 1/n_features\n",
    "    * When gamma is \"scale\" -> 1/(n_features * X.var())\n",
    "2. Regularization: Regularixation helps to solve over fitting problem in ML.Overfitting refers to high variance.To reduce variance ,we have to add penalty term to the formulae used by the model.Regularization in shown as \"C\" in SVM.\n",
    "    * C value low,SVM uses a larger margin between the datapoints.Some datapoints which may be closer to hyper plane may not be classified correctly.\n",
    "    * C value high,the margin will be small.In this case,maximum data points can be classified correctly.So,accuracy of the model will be high.\n",
    "3. Kernel Function: Kernel function will transform the 2D data into 3D data to faciliate easy classification."
   ]
  },
  {
   "cell_type": "markdown",
   "metadata": {},
   "source": [
    "![image](./images/03_10.png)"
   ]
  },
  {
   "cell_type": "markdown",
   "metadata": {},
   "source": [
    "<span style=\"color:green;font-size: 24px\">SOFT MARGIN IN SVM</span>  🚀."
   ]
  },
  {
   "cell_type": "markdown",
   "metadata": {},
   "source": [
    "- In a soft margin SVM,the algorithm allows for some misclassifications to achieve a balance between maximizing the margin and tolerating a certain amount of error."
   ]
  },
  {
   "cell_type": "markdown",
   "metadata": {},
   "source": [
    "<span style=\"color:purple;font-size: 24px\">HARD MARGIN IN SVM</span>  🚀."
   ]
  },
  {
   "cell_type": "markdown",
   "metadata": {},
   "source": [
    "- In a hard margin in SVM,the algorithm aims to find a hyper plane that perfectly seperates the data points of different classes without allowing any misclassification(correctly classified)\n",
    "- sensitive to outliers"
   ]
  },
  {
   "cell_type": "markdown",
   "metadata": {},
   "source": [
    "![image](https://miro.medium.com/v2/resize:fit:1400/1*RgFWpCEG5AvnmGF5ESy1Tg.png)"
   ]
  },
  {
   "cell_type": "markdown",
   "metadata": {},
   "source": [
    "<span style=\"color:yellow;font-size: 24px\">ADVANTAGES</span>  🚀."
   ]
  },
  {
   "cell_type": "markdown",
   "metadata": {},
   "source": [
    "- It is effective in high dimension\n",
    "- It is for the non-linear seperable data \n",
    "- Robust for the outliers\n",
    "- Robust for the overfitting\n",
    "- versatile kernels"
   ]
  },
  {
   "cell_type": "markdown",
   "metadata": {},
   "source": [
    "<span style=\"color:blue;font-size: 24px\">DISADVANTAGES</span>  🚀."
   ]
  },
  {
   "cell_type": "markdown",
   "metadata": {},
   "source": [
    "- Computatinal complex\n",
    "- Memory intensive"
   ]
  },
  {
   "cell_type": "markdown",
   "metadata": {},
   "source": [
    "# Resources:\n",
    "- https://see.stanford.edu/course/cs229"
   ]
  },
  {
   "cell_type": "markdown",
   "metadata": {},
   "source": []
  }
 ],
 "metadata": {
  "kernelspec": {
   "display_name": "ml_env",
   "language": "python",
   "name": "python3"
  },
  "language_info": {
   "codemirror_mode": {
    "name": "ipython",
    "version": 3
   },
   "file_extension": ".py",
   "mimetype": "text/x-python",
   "name": "python",
   "nbconvert_exporter": "python",
   "pygments_lexer": "ipython3",
   "version": "3.11.0"
  }
 },
 "nbformat": 4,
 "nbformat_minor": 2
}
